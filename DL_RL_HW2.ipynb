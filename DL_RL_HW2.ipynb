{
  "nbformat": 4,
  "nbformat_minor": 0,
  "metadata": {
    "colab": {
      "name": "DL_RL_HW2.ipynb",
      "provenance": [],
      "collapsed_sections": [
        "FOYL7ouKCKGL",
        "GFS_bqijA8o9"
      ]
    },
    "kernelspec": {
      "name": "python3",
      "display_name": "Python 3"
    },
    "language_info": {
      "name": "python"
    }
  },
  "cells": [
    {
      "cell_type": "markdown",
      "metadata": {
        "id": "5f6O21FTA0M5"
      },
      "source": [
        "# RL and Advanced DL: Домашнее задание 2"
      ]
    },
    {
      "cell_type": "markdown",
      "metadata": {
        "id": "FOYL7ouKCKGL"
      },
      "source": [
        "## Imports & TicTacToe env"
      ]
    },
    {
      "cell_type": "code",
      "metadata": {
        "id": "vePsseIKEXTE"
      },
      "source": [
        "import copy\n",
        "import gym\n",
        "\n",
        "import matplotlib as mpl\n",
        "import matplotlib.pyplot as plt\n",
        "import numpy as np\n",
        "import math\n",
        "import random\n",
        "import seaborn as sns\n",
        "\n",
        "import torch\n",
        "import torch.nn as nn\n",
        "import torch.optim as optim\n",
        "import torch.nn.functional as F\n",
        "import torchvision.transforms as T\n",
        "from torch.autograd import Variable\n",
        "import tqdm"
      ],
      "execution_count": 1,
      "outputs": []
    },
    {
      "cell_type": "code",
      "metadata": {
        "colab": {
          "base_uri": "https://localhost:8080/"
        },
        "id": "6MWcMWdnMK1f",
        "outputId": "53d23ed6-d8c8-45a6-9fd8-631a415f0681"
      },
      "source": [
        "import imp\n",
        "import os\n",
        "path=\"/content/drive/MyDrive/MADE/3-dl-rl/hw2\"\n",
        "os.chdir(path)\n",
        "os.listdir(path)"
      ],
      "execution_count": 2,
      "outputs": [
        {
          "output_type": "execute_result",
          "data": {
            "text/plain": [
              "['__pycache__', '.ipynb_checkpoints', 'TicTacToeClasses.py', 'DL_RL_HW2.ipynb']"
            ]
          },
          "metadata": {},
          "execution_count": 2
        }
      ]
    },
    {
      "cell_type": "code",
      "metadata": {
        "id": "jvXTk36cCPPv"
      },
      "source": [
        "N_ROWS, N_COLS, N_WIN = 3, 3, 3"
      ],
      "execution_count": 3,
      "outputs": []
    },
    {
      "cell_type": "code",
      "metadata": {
        "id": "jv0E8zL3CSzm"
      },
      "source": [
        "class TicTacToe(gym.Env):\n",
        "    def __init__(self, n_rows=N_ROWS, n_cols=N_COLS, n_win=N_WIN, clone=None):\n",
        "        if clone is not None:\n",
        "            self.n_rows, self.n_cols, self.n_win = clone.n_rows, clone.n_cols, clone.n_win\n",
        "            self.board = copy.deepcopy(clone.board)\n",
        "            self.curTurn = clone.curTurn\n",
        "            self.emptySpaces = None\n",
        "            self.boardHash = None\n",
        "        else:\n",
        "            self.n_rows = n_rows\n",
        "            self.n_cols = n_cols\n",
        "            self.n_win = n_win\n",
        "\n",
        "            self.reset()\n",
        "\n",
        "    def getEmptySpaces(self):\n",
        "        if self.emptySpaces is None:\n",
        "            res = np.where(self.board == 0)\n",
        "            self.emptySpaces = np.array([ (i, j) for i,j in zip(res[0], res[1]) ])\n",
        "        return self.emptySpaces\n",
        "\n",
        "    def makeMove(self, player, i, j):\n",
        "        self.board[i, j] = player\n",
        "        self.emptySpaces = None\n",
        "        self.boardHash = None\n",
        "\n",
        "    def getHash(self):\n",
        "        if self.boardHash is None:\n",
        "            self.boardHash = ''.join(['%s' % (x+1) for x in self.board.reshape(self.n_rows * self.n_cols)])\n",
        "        return self.boardHash\n",
        "\n",
        "    def isTerminal(self):\n",
        "        # проверим, не закончилась ли игра\n",
        "        cur_marks, cur_p = np.where(self.board == self.curTurn), self.curTurn\n",
        "        for i,j in zip(cur_marks[0], cur_marks[1]):\n",
        "            win = False\n",
        "            if i <= self.n_rows - self.n_win:\n",
        "                if np.all(self.board[i:i+self.n_win, j] == cur_p):\n",
        "                    win = True\n",
        "            if not win:\n",
        "                if j <= self.n_cols - self.n_win:\n",
        "                    if np.all(self.board[i,j:j+self.n_win] == cur_p):\n",
        "                        win = True\n",
        "            if not win:\n",
        "                if i <= self.n_rows - self.n_win and j <= self.n_cols - self.n_win:\n",
        "                    if np.all(np.array([ self.board[i+k,j+k] == cur_p for k in range(self.n_win) ])):\n",
        "                        win = True\n",
        "            if not win:\n",
        "                if i <= self.n_rows - self.n_win and j >= self.n_win-1:\n",
        "                    if np.all(np.array([ self.board[i+k,j-k] == cur_p for k in range(self.n_win) ])):\n",
        "                        win = True\n",
        "            if win:\n",
        "                self.gameOver = True\n",
        "                return self.curTurn\n",
        "\n",
        "        if len(self.getEmptySpaces()) == 0:\n",
        "            self.gameOver = True\n",
        "            return 0\n",
        "\n",
        "        self.gameOver = False\n",
        "        return None\n",
        "\n",
        "    def printBoard(self):\n",
        "        for i in range(0, self.n_rows):\n",
        "            print('----'*(self.n_cols)+'-')\n",
        "            out = '| '\n",
        "            for j in range(0, self.n_cols):\n",
        "                if self.board[i, j] == 1:\n",
        "                    token = 'x'\n",
        "                if self.board[i, j] == -1:\n",
        "                    token = 'o'\n",
        "                if self.board[i, j] == 0:\n",
        "                    token = ' '\n",
        "                out += token + ' | '\n",
        "            print(out)\n",
        "        print('----'*(self.n_cols)+'-')\n",
        "\n",
        "    def getState(self):\n",
        "        return (self.getHash(), self.getEmptySpaces(), self.curTurn)\n",
        "\n",
        "    def action_from_int(self, action_int):\n",
        "        return ( int(action_int / self.n_cols), int(action_int % self.n_cols))\n",
        "\n",
        "    def int_from_action(self, action):\n",
        "        return action[0] * self.n_cols + action[1]\n",
        "    \n",
        "    def step(self, action):\n",
        "        if self.board[action[0], action[1]] != 0:\n",
        "            return self.getState(), -10, True, {}\n",
        "        self.makeMove(self.curTurn, action[0], action[1])\n",
        "        reward = self.isTerminal()\n",
        "        self.curTurn = -self.curTurn\n",
        "        return self.getState(), 0 if reward is None else reward, reward is not None, {}\n",
        "\n",
        "    def reset(self):\n",
        "        self.board = np.zeros((self.n_rows, self.n_cols), dtype=int)\n",
        "        self.boardHash = None\n",
        "        self.gameOver = False\n",
        "        self.emptySpaces = None\n",
        "        self.curTurn = 1"
      ],
      "execution_count": 4,
      "outputs": []
    },
    {
      "cell_type": "code",
      "metadata": {
        "id": "-iMBtLVgCaSy"
      },
      "source": [
        "def plot_board(env, pi, showtext=True, verbose=True, fontq=20, fontx=60):\n",
        "    '''Рисуем доску с оценками из стратегии pi'''\n",
        "    fig, ax = plt.subplots(1, 1, figsize=(10, 10))\n",
        "    X, Y = np.meshgrid(np.arange(0, env.n_rows), np.arange(0, env.n_rows))\n",
        "    Z = np.zeros((env.n_rows, env.n_cols)) + .01\n",
        "    s, actions = env.getHash(), env.getEmptySpaces()\n",
        "    if pi is not None and s in pi.Q:\n",
        "        for i, a in enumerate(actions):\n",
        "            Z[a[0], a[1]] = pi.Q[s][i]\n",
        "    ax.set_xticks([])\n",
        "    ax.set_yticks([])\n",
        "    surf = ax.imshow(Z, cmap=plt.get_cmap('Accent', 10), vmin=-1, vmax=1)\n",
        "    if showtext:\n",
        "        for i,a in enumerate(actions):\n",
        "            if pi is not None and s in pi.Q:\n",
        "                ax.text( a[1] , a[0] , \"%.3f\" % pi.Q[s][i], fontsize=fontq, horizontalalignment='center', verticalalignment='center', color=\"w\" )\n",
        "    for i in range(env.n_rows):\n",
        "        for j in range(env.n_cols):\n",
        "            if env.board[i, j] == -1:\n",
        "                ax.text(j, i, \"O\", fontsize=fontx, horizontalalignment='center', verticalalignment='center', color=\"w\" )\n",
        "            if env.board[i, j] == 1:\n",
        "                ax.text(j, i, \"X\", fontsize=fontx, horizontalalignment='center', verticalalignment='center', color=\"w\" )\n",
        "    cbar = plt.colorbar(surf, ticks=[0, 1])\n",
        "    ax.grid(False)\n",
        "    plt.show()\n",
        "\n",
        "def get_and_print_move(env, pi, s, actions, random=False, verbose=True, fontq=20, fontx=60):\n",
        "    '''Делаем ход, рисуем доску'''\n",
        "    plot_board(env, pi, fontq=fontq, fontx=fontx)\n",
        "    if verbose and (pi is not None):\n",
        "        if s in pi.Q:\n",
        "            for i,a in enumerate(actions):\n",
        "                print(i, a, pi.Q[s][i])\n",
        "        else:\n",
        "            print(\"Стратегия не знает, что делать...\")\n",
        "    if random:\n",
        "        return np.random.randint(len(actions))\n",
        "    else:\n",
        "        return pi.getActionGreedy(s, len(actions))"
      ],
      "execution_count": 5,
      "outputs": []
    },
    {
      "cell_type": "code",
      "metadata": {
        "id": "0KrefqXbCbDl"
      },
      "source": [
        "def plot_test_game(env, pi1, pi2, random_crosses=False, random_naughts=True, verbose=True, fontq=20, fontx=60):\n",
        "    '''Играем тестовую партию между стратегиями или со случайными ходами, рисуем ход игры'''\n",
        "    done = False\n",
        "    env.reset()\n",
        "    while not done:\n",
        "        s, actions = env.getHash(), env.getEmptySpaces()\n",
        "        if env.curTurn == 1:\n",
        "            a = get_and_print_move(env, pi1, s, actions, random=random_crosses, verbose=verbose, fontq=fontq, fontx=fontx)\n",
        "        else:\n",
        "            a = get_and_print_move(env, pi2, s, actions, random=random_naughts, verbose=verbose, fontq=fontq, fontx=fontx)\n",
        "        observation, reward, done, info = env.step(actions[a])\n",
        "        if reward == 1:\n",
        "            print(\"Крестики выиграли!\")\n",
        "            plot_board(env, None, showtext=False, fontq=fontq, fontx=fontx)\n",
        "        if reward == -1:\n",
        "            print(\"Нолики выиграли!\")\n",
        "            plot_board(env, None, showtext=False, fontq=fontq, fontx=fontx)"
      ],
      "execution_count": 6,
      "outputs": []
    },
    {
      "cell_type": "markdown",
      "metadata": {
        "id": "GFS_bqijA8o9"
      },
      "source": [
        "## Часть первая: крестики-нолики при помощи Q-обучения"
      ]
    },
    {
      "cell_type": "markdown",
      "metadata": {
        "id": "SnijAqZVBFEe"
      },
      "source": [
        "### 1. Реализуйте обычное (табличное) Q-обучение. Обучите стратегии крестиков и ноликов для доски 3х3."
      ]
    },
    {
      "cell_type": "markdown",
      "metadata": {
        "id": "kHa8CfxUr1Kn"
      },
      "source": [
        "Реализуем Q-обучение с двумя политиками: первого и второго игрока."
      ]
    },
    {
      "cell_type": "code",
      "metadata": {
        "id": "1JmEMWlU_Fc7"
      },
      "source": [
        "def get_action(p, board_hash, empty_spaces, epsilon):\n",
        "  empty_len = len(empty_spaces)\n",
        "  if board_hash in p.Q and np.random.random() > epsilon:\n",
        "    idx = np.argmax(p.Q[board_hash])\n",
        "  else:\n",
        "    idx = np.random.randint(empty_len)\n",
        "    if board_hash not in p.Q:\n",
        "      p.Q[board_hash] = np.zeros(empty_len)\n",
        "  a = empty_spaces[idx]\n",
        "  return a, idx"
      ],
      "execution_count": 7,
      "outputs": []
    },
    {
      "cell_type": "code",
      "metadata": {
        "id": "fJkEakb9AWRJ"
      },
      "source": [
        "def QLearning(env, p_1, p_2, alpha=0.009, epsilon=0.3, gamma=1.0):\n",
        "  env.reset()\n",
        "  board_hash, empty_spaces, cur_turn = env.getState()\n",
        "  reward, done = 0, False\n",
        "  p_1_prev_s, p_1_prev_a = None, None\n",
        "  p_2_prev_s, p_2_prev_a = None, None\n",
        "\n",
        "  while not done:\n",
        "      \n",
        "    if cur_turn == 1:\n",
        "      a, idx = get_action(p_1, board_hash, empty_spaces, epsilon)\n",
        "      state, reward, done, _ = env.step(a)\n",
        "      board_hash_main, empty_spaces_main, cur_turn_main = state\n",
        "      \n",
        "      if p_2_prev_s:\n",
        "        gamma_t = gamma * np.max(p_2.Q[board_hash_main]) if board_hash_main in p_2.Q else 0\n",
        "        p_2.Q[p_2_prev_s][p_2_prev_a] = p_2.Q[p_2_prev_s][p_2_prev_a] + alpha * (-reward + gamma_t - p_2.Q[p_2_prev_s][p_2_prev_a])\n",
        "      if reward == 1:\n",
        "        p_1.Q[board_hash][idx] = reward\n",
        "      \n",
        "      p_1_prev_s, p_1_prev_a = board_hash, idx\n",
        "\n",
        "    elif cur_turn == -1:\n",
        "      a, idx = get_action(p_2, board_hash, empty_spaces, epsilon)\n",
        "      state, reward, done, _ = env.step(a)\n",
        "      board_hash_main, empty_spaces_main, cur_turn_main = state\n",
        "      \n",
        "      if p_1_prev_s:\n",
        "        gamma_t = gamma * np.max(p_1.Q[board_hash_main]) if board_hash_main in p_1.Q else 0\n",
        "        p_1.Q[p_1_prev_s][p_1_prev_a] = p_1.Q[p_1_prev_s][p_1_prev_a] + alpha * (reward + gamma_t - p_1.Q[p_1_prev_s][p_1_prev_a])\n",
        "      if reward == -1:\n",
        "        p_2.Q[board_hash][idx] = -reward\n",
        "      \n",
        "      p_2_prev_s, p_2_prev_a = board_hash, idx\n",
        "    \n",
        "    else:\n",
        "      raise Exception('Может быть только 2 игрока')\n",
        "    \n",
        "    board_hash, empty_spaces, cur_turn = board_hash_main, empty_spaces_main, cur_turn_main"
      ],
      "execution_count": 8,
      "outputs": []
    },
    {
      "cell_type": "code",
      "metadata": {
        "id": "7IBtdGiQaMXr"
      },
      "source": [
        "def get_action_g(p, board_hash, empty_spaces):\n",
        "  empty_len = len(empty_spaces)\n",
        "  if p and board_hash in p.Q:\n",
        "    idx = np.argmax(p.Q[board_hash])\n",
        "  else:\n",
        "    idx = np.random.randint(empty_len)\n",
        "  a = empty_spaces[idx]\n",
        "  return a, idx"
      ],
      "execution_count": 9,
      "outputs": []
    },
    {
      "cell_type": "code",
      "metadata": {
        "id": "Bwseqscy5L6_"
      },
      "source": [
        "def play_game(env, p_1=None, p_2=None):\n",
        "  env.reset()\n",
        "  board_hash, empty_spaces, cur_turn = env.getState()\n",
        "  reward, done = 0, False\n",
        "\n",
        "  while not done:\n",
        "    if cur_turn == 1:\n",
        "      a, idx = get_action_g(p_1, board_hash, empty_spaces)\n",
        "      state, reward, done, _ = env.step(a)\n",
        "      board_hash_main, empty_spaces_main, cur_turn_main = state\n",
        "    elif cur_turn == -1:\n",
        "      a, idx = get_action_g(p_2, board_hash, empty_spaces)\n",
        "      state, reward, done, _ = env.step(a)\n",
        "      board_hash_main, empty_spaces_main, cur_turn_main = state\n",
        "    else:\n",
        "      raise Exception('Может быть только 2 игрока')\n",
        "    \n",
        "    board_hash, empty_spaces, cur_turn = board_hash_main, empty_spaces_main, cur_turn_main\n",
        "  \n",
        "  return reward"
      ],
      "execution_count": 10,
      "outputs": []
    },
    {
      "cell_type": "code",
      "metadata": {
        "id": "VYtiSwmjUXa7"
      },
      "source": [
        "def compare_p(env, p_1=None, p_2=None, episodes_num=1000):\n",
        "    total_reward = 0\n",
        "    for _ in range(episodes_num):\n",
        "        total_reward += play_game(env, p_1=p_1, p_2=p_2)\n",
        "    return total_reward / episodes_num"
      ],
      "execution_count": 11,
      "outputs": []
    },
    {
      "cell_type": "code",
      "metadata": {
        "id": "eV8Ktabt5N3-"
      },
      "source": [
        "class Policy:\n",
        "    def __init__(self):\n",
        "        self.Q = {}\n",
        "    \n",
        "    def get_action(self, s, n):\n",
        "        if s in self.Q:\n",
        "            return np.argmax(self.Q[s])\n",
        "        else:\n",
        "            return np.random.randint(n)"
      ],
      "execution_count": 12,
      "outputs": []
    },
    {
      "cell_type": "code",
      "metadata": {
        "id": "FeiRqYyBmAZh"
      },
      "source": [
        "def run_experiment(env, p_1, p_2, episodes, test_each, print_each):\n",
        "  indexes, crosses, noughts = [], [], []\n",
        "\n",
        "  for i in tqdm.tqdm(range(1, episodes + 1)):\n",
        "    QLearning(env, p_1, p_2)\n",
        "    if i % test_each == 0:\n",
        "      cross = compare_p(env, p_1=p_1, p_2=None, episodes_num=500)\n",
        "      nought = -compare_p(env, p_1=None, p_2=p_2, episodes_num=500)\n",
        "      indexes.append(i)\n",
        "      crosses.append(cross)\n",
        "      noughts.append(nought)\n",
        "    if i % print_each == 0:\n",
        "      print(f'Episode {i}, cross reward: {cross}, nought reward: {nought}')\n",
        "\n",
        "  indexes, crosses, noughts = np.array(indexes), np.array(crosses), np.array(noughts)\n",
        "  results = np.vstack((indexes, crosses, noughts))\n",
        "\n",
        "  return results"
      ],
      "execution_count": 13,
      "outputs": []
    },
    {
      "cell_type": "code",
      "metadata": {
        "colab": {
          "base_uri": "https://localhost:8080/"
        },
        "id": "xevgIwj15PmY",
        "outputId": "be363d42-24c3-44f6-8feb-eb0f3d48607d"
      },
      "source": [
        "p_1 = Policy()\n",
        "p_2 = Policy()\n",
        "env = TicTacToe(3, 3, 3)\n",
        "\n",
        "episodes = 200000\n",
        "test_each = 1000\n",
        "print_each = 20000\n",
        "\n",
        "results_1 = run_experiment(env, p_1, p_2, episodes, test_each, print_each)"
      ],
      "execution_count": null,
      "outputs": [
        {
          "output_type": "stream",
          "name": "stderr",
          "text": [
            " 10%|█         | 20224/200000 [00:27<04:55, 608.95it/s]"
          ]
        },
        {
          "output_type": "stream",
          "name": "stdout",
          "text": [
            "Episode 20000, cross reward: 0.988, nought reward: 0.64\n"
          ]
        },
        {
          "output_type": "stream",
          "name": "stderr",
          "text": [
            " 20%|██        | 40171/200000 [00:53<05:09, 516.52it/s]"
          ]
        },
        {
          "output_type": "stream",
          "name": "stdout",
          "text": [
            "Episode 40000, cross reward: 0.99, nought reward: 0.74\n"
          ]
        },
        {
          "output_type": "stream",
          "name": "stderr",
          "text": [
            " 30%|███       | 60245/200000 [01:18<04:05, 570.26it/s]"
          ]
        },
        {
          "output_type": "stream",
          "name": "stdout",
          "text": [
            "Episode 60000, cross reward: 0.998, nought reward: 0.794\n"
          ]
        },
        {
          "output_type": "stream",
          "name": "stderr",
          "text": [
            " 40%|████      | 80225/200000 [01:44<02:57, 674.95it/s]"
          ]
        },
        {
          "output_type": "stream",
          "name": "stdout",
          "text": [
            "Episode 80000, cross reward: 0.994, nought reward: 0.82\n"
          ]
        },
        {
          "output_type": "stream",
          "name": "stderr",
          "text": [
            " 50%|█████     | 100272/200000 [02:10<02:25, 684.15it/s]"
          ]
        },
        {
          "output_type": "stream",
          "name": "stdout",
          "text": [
            "Episode 100000, cross reward: 0.994, nought reward: 0.796\n"
          ]
        },
        {
          "output_type": "stream",
          "name": "stderr",
          "text": [
            " 60%|██████    | 120180/200000 [02:35<02:06, 631.46it/s]"
          ]
        },
        {
          "output_type": "stream",
          "name": "stdout",
          "text": [
            "Episode 120000, cross reward: 0.994, nought reward: 0.87\n"
          ]
        },
        {
          "output_type": "stream",
          "name": "stderr",
          "text": [
            " 70%|███████   | 140294/200000 [03:01<01:35, 622.26it/s]"
          ]
        },
        {
          "output_type": "stream",
          "name": "stdout",
          "text": [
            "Episode 140000, cross reward: 0.998, nought reward: 0.848\n"
          ]
        },
        {
          "output_type": "stream",
          "name": "stderr",
          "text": [
            " 80%|████████  | 160153/200000 [03:27<01:01, 652.70it/s]"
          ]
        },
        {
          "output_type": "stream",
          "name": "stdout",
          "text": [
            "Episode 160000, cross reward: 0.99, nought reward: 0.87\n"
          ]
        },
        {
          "output_type": "stream",
          "name": "stderr",
          "text": [
            " 90%|█████████ | 180223/200000 [03:52<00:30, 638.44it/s]"
          ]
        },
        {
          "output_type": "stream",
          "name": "stdout",
          "text": [
            "Episode 180000, cross reward: 0.998, nought reward: 0.848\n"
          ]
        },
        {
          "output_type": "stream",
          "name": "stderr",
          "text": [
            "100%|██████████| 200000/200000 [04:18<00:00, 773.35it/s] "
          ]
        },
        {
          "output_type": "stream",
          "name": "stdout",
          "text": [
            "Episode 200000, cross reward: 0.99, nought reward: 0.856\n"
          ]
        },
        {
          "output_type": "stream",
          "name": "stderr",
          "text": [
            "\n"
          ]
        }
      ]
    },
    {
      "cell_type": "code",
      "metadata": {
        "id": "C8l-U_OAUO8m"
      },
      "source": [
        "def plot_results(results):\n",
        "    plt.xlabel('Эпизодов')\n",
        "    plt.ylabel('Средний выигрыш')\n",
        "    plt.plot(results[0], results[1], label='Крестики')\n",
        "    plt.plot(results[0], results[2], label='Нолики')\n",
        "    plt.legend()"
      ],
      "execution_count": null,
      "outputs": []
    },
    {
      "cell_type": "code",
      "metadata": {
        "colab": {
          "base_uri": "https://localhost:8080/",
          "height": 314
        },
        "id": "WwmfHAgF5RPh",
        "outputId": "4436204d-5286-4fb9-fbe4-61ebb8ee329d"
      },
      "source": [
        "plot_results(results_1)\n",
        "print(f'Средний выигрыш крестиков против случайной политики: {np.round(np.mean(results_1[1][-100:-1]), 3)}')\n",
        "print(f'Средний выигрыш ноликов против случайной политики: {np.round(np.mean(results_1[2][-100:-1]), 3)}')"
      ],
      "execution_count": null,
      "outputs": [
        {
          "output_type": "stream",
          "name": "stdout",
          "text": [
            "Средний выигрышь крестиков против случайной политики: 0.994\n",
            "Средний выигрышь ноликов против случайной политики: 0.86\n"
          ]
        },
        {
          "output_type": "display_data",
          "data": {
            "image/png": "[encoded data removed]",
            "text/plain": [
              "<Figure size 432x288 with 1 Axes>"
            ]
          },
          "metadata": {
            "needs_background": "light"
          }
        }
      ]
    },
    {
      "cell_type": "markdown",
      "metadata": {
        "id": "558BxygGBH95"
      },
      "source": [
        "### 2. Попробуйте обучить стратегии крестиков и ноликов для доски 4х4 и/или 5х5."
      ]
    },
    {
      "cell_type": "code",
      "metadata": {
        "id": "7KyNAlK4BOn2",
        "colab": {
          "base_uri": "https://localhost:8080/"
        },
        "outputId": "6bf44cb8-fbee-4514-a8a6-67c398893bbb"
      },
      "source": [
        "p_1 = Policy()\n",
        "p_2 = Policy()\n",
        "env = TicTacToe(4, 4, 4)\n",
        "\n",
        "episodes = 1000000\n",
        "test_each = 1000\n",
        "print_each = 100000\n",
        "\n",
        "results_2 = run_experiment(env, p_1, p_2, episodes, test_each, print_each)"
      ],
      "execution_count": null,
      "outputs": [
        {
          "metadata": {
            "tags": null
          },
          "name": "stderr",
          "output_type": "stream",
          "text": [
            " 10%|█         | 100091/1000000 [05:22<1:42:10, 146.79it/s]"
          ]
        },
        {
          "metadata": {
            "tags": null
          },
          "name": "stdout",
          "output_type": "stream",
          "text": [
            "Episode 100000, cross reward: 0.372, nought reward: 0.018\n"
          ]
        },
        {
          "metadata": {
            "tags": null
          },
          "name": "stderr",
          "output_type": "stream",
          "text": [
            " 20%|██        | 200078/1000000 [10:35<1:32:30, 144.11it/s]"
          ]
        },
        {
          "metadata": {
            "tags": null
          },
          "name": "stdout",
          "output_type": "stream",
          "text": [
            "Episode 200000, cross reward: 0.498, nought reward: 0.018\n"
          ]
        },
        {
          "output_type": "stream",
          "name": "stderr",
          "text": [
            " 30%|███       | 300076/1000000 [15:46<1:12:42, 160.43it/s]"
          ]
        },
        {
          "output_type": "stream",
          "name": "stdout",
          "text": [
            "Episode 300000, cross reward: 0.59, nought reward: 0.074\n"
          ]
        },
        {
          "output_type": "stream",
          "name": "stderr",
          "text": [
            " 40%|████      | 400089/1000000 [20:54<1:06:27, 150.43it/s]"
          ]
        },
        {
          "output_type": "stream",
          "name": "stdout",
          "text": [
            "Episode 400000, cross reward: 0.29, nought reward: 0.052\n"
          ]
        },
        {
          "output_type": "stream",
          "name": "stderr",
          "text": [
            " 50%|█████     | 500103/1000000 [25:55<52:36, 158.35it/s]  "
          ]
        },
        {
          "output_type": "stream",
          "name": "stdout",
          "text": [
            "Episode 500000, cross reward: 0.682, nought reward: 0.15\n"
          ]
        },
        {
          "output_type": "stream",
          "name": "stderr",
          "text": [
            " 60%|██████    | 600122/1000000 [30:51<36:28, 182.70it/s]"
          ]
        },
        {
          "output_type": "stream",
          "name": "stdout",
          "text": [
            "Episode 600000, cross reward: 0.628, nought reward: 0.16\n"
          ]
        },
        {
          "output_type": "stream",
          "name": "stderr",
          "text": [
            " 70%|███████   | 700112/1000000 [35:47<29:32, 169.24it/s]"
          ]
        },
        {
          "output_type": "stream",
          "name": "stdout",
          "text": [
            "Episode 700000, cross reward: 0.742, nought reward: 0.118\n"
          ]
        },
        {
          "output_type": "stream",
          "name": "stderr",
          "text": [
            " 80%|████████  | 800099/1000000 [40:43<19:07, 174.16it/s]"
          ]
        },
        {
          "output_type": "stream",
          "name": "stdout",
          "text": [
            "Episode 800000, cross reward: 0.772, nought reward: 0.124\n"
          ]
        },
        {
          "output_type": "stream",
          "name": "stderr",
          "text": [
            " 90%|█████████ | 900081/1000000 [45:39<10:07, 164.42it/s]"
          ]
        },
        {
          "output_type": "stream",
          "name": "stdout",
          "text": [
            "Episode 900000, cross reward: 0.804, nought reward: 0.19\n"
          ]
        },
        {
          "output_type": "stream",
          "name": "stderr",
          "text": [
            "100%|██████████| 1000000/1000000 [50:35<00:00, 329.43it/s]"
          ]
        },
        {
          "output_type": "stream",
          "name": "stdout",
          "text": [
            "Episode 1000000, cross reward: 0.806, nought reward: 0.204\n"
          ]
        },
        {
          "output_type": "stream",
          "name": "stderr",
          "text": [
            "\n"
          ]
        }
      ]
    },
    {
      "cell_type": "code",
      "metadata": {
        "colab": {
          "base_uri": "https://localhost:8080/",
          "height": 314
        },
        "id": "a-gjUpRTnfqs",
        "outputId": "4f5e6da4-65e3-4f67-e303-c661ca685a15"
      },
      "source": [
        "plot_results(results_2)\n",
        "print(f'Средний выигрыш крестиков против случайной политики: {np.round(np.mean(results_2[1][-100:-1]), 3)}')\n",
        "print(f'Средний выигрыш ноликов против случайной политики: {np.round(np.mean(results_2[2][-100:-1]), 3)}')"
      ],
      "execution_count": null,
      "outputs": [
        {
          "output_type": "stream",
          "name": "stdout",
          "text": [
            "Средний выигрышь крестиков против случайной политики: 0.769\n",
            "Средний выигрышь ноликов против случайной политики: 0.192\n"
          ]
        },
        {
          "output_type": "display_data",
          "data": {
            "image/png": "[encoded data removed]",
            "text/plain": [
              "<Figure size 432x288 with 1 Axes>"
            ]
          },
          "metadata": {
            "needs_background": "light"
          }
        }
      ]
    },
    {
      "cell_type": "markdown",
      "metadata": {
        "id": "xVtojDTCIO4k"
      },
      "source": [
        "Как видим, при увелечении размерности доски всего на 1, Q-обучение требует гораздо большее количество эпизодов - увеличение в 5 раз не дало возможности обучиться модели с таким же результатам как на доске 3х3."
      ]
    },
    {
      "cell_type": "code",
      "metadata": {
        "colab": {
          "base_uri": "https://localhost:8080/"
        },
        "id": "To1uALwYnqGC",
        "outputId": "9ab63dcf-ed69-4eaa-9662-3b491d7256ff"
      },
      "source": [
        "p_1 = Policy()\n",
        "p_2 = Policy()\n",
        "env = TicTacToe(5, 5, 5)\n",
        "\n",
        "episodes = 2000000\n",
        "test_each = 1000\n",
        "print_each = 200000\n",
        "\n",
        "results_3 = run_experiment(env, p_1, p_2, episodes, test_each, print_each)"
      ],
      "execution_count": null,
      "outputs": [
        {
          "output_type": "stream",
          "name": "stderr",
          "text": [
            " 10%|█         | 200043/2000000 [21:53<11:40:31, 42.82it/s]"
          ]
        },
        {
          "output_type": "stream",
          "name": "stdout",
          "text": [
            "Episode 200000, cross reward: 0.204, nought reward: -0.072\n"
          ]
        },
        {
          "output_type": "stream",
          "name": "stderr",
          "text": [
            " 20%|██        | 400037/2000000 [43:21<10:28:37, 42.42it/s]"
          ]
        },
        {
          "output_type": "stream",
          "name": "stdout",
          "text": [
            "Episode 400000, cross reward: 0.308, nought reward: -0.15\n"
          ]
        },
        {
          "output_type": "stream",
          "name": "stderr",
          "text": [
            " 30%|███       | 600031/2000000 [1:04:42<8:43:59, 44.53it/s] "
          ]
        },
        {
          "output_type": "stream",
          "name": "stdout",
          "text": [
            "Episode 600000, cross reward: 0.294, nought reward: -0.152\n"
          ]
        },
        {
          "output_type": "stream",
          "name": "stderr",
          "text": [
            " 40%|████      | 800043/2000000 [1:25:48<7:44:57, 43.01it/s] "
          ]
        },
        {
          "output_type": "stream",
          "name": "stdout",
          "text": [
            "Episode 800000, cross reward: 0.338, nought reward: -0.128\n"
          ]
        },
        {
          "output_type": "stream",
          "name": "stderr",
          "text": [
            " 50%|█████     | 1000030/2000000 [1:46:55<6:34:31, 42.24it/s]"
          ]
        },
        {
          "output_type": "stream",
          "name": "stdout",
          "text": [
            "Episode 1000000, cross reward: 0.276, nought reward: -0.068\n"
          ]
        },
        {
          "output_type": "stream",
          "name": "stderr",
          "text": [
            " 60%|██████    | 1200043/2000000 [2:07:58<5:19:58, 41.67it/s]"
          ]
        },
        {
          "output_type": "stream",
          "name": "stdout",
          "text": [
            "Episode 1200000, cross reward: 0.306, nought reward: -0.108\n"
          ]
        },
        {
          "output_type": "stream",
          "name": "stderr",
          "text": [
            " 70%|███████   | 1400058/2000000 [2:29:04<3:46:02, 44.24it/s]"
          ]
        },
        {
          "output_type": "stream",
          "name": "stdout",
          "text": [
            "Episode 1400000, cross reward: 0.294, nought reward: -0.132\n"
          ]
        },
        {
          "output_type": "stream",
          "name": "stderr",
          "text": [
            " 80%|████████  | 1600027/2000000 [2:50:11<2:37:30, 42.32it/s]"
          ]
        },
        {
          "output_type": "stream",
          "name": "stdout",
          "text": [
            "Episode 1600000, cross reward: 0.334, nought reward: -0.094\n"
          ]
        },
        {
          "output_type": "stream",
          "name": "stderr",
          "text": [
            " 90%|█████████ | 1800027/2000000 [3:11:27<1:21:52, 40.71it/s]"
          ]
        },
        {
          "output_type": "stream",
          "name": "stdout",
          "text": [
            "Episode 1800000, cross reward: 0.31, nought reward: -0.124\n"
          ]
        },
        {
          "output_type": "stream",
          "name": "stderr",
          "text": [
            "100%|██████████| 2000000/2000000 [3:32:49<00:00, 156.62it/s]"
          ]
        },
        {
          "output_type": "stream",
          "name": "stdout",
          "text": [
            "Episode 2000000, cross reward: 0.33, nought reward: -0.082\n"
          ]
        },
        {
          "output_type": "stream",
          "name": "stderr",
          "text": [
            "\n"
          ]
        }
      ]
    },
    {
      "cell_type": "code",
      "metadata": {
        "colab": {
          "base_uri": "https://localhost:8080/",
          "height": 314
        },
        "id": "YiCHmmxLnppD",
        "outputId": "364952e0-c91a-4869-a87d-4402441d8b01"
      },
      "source": [
        "plot_results(results_3)\n",
        "print(f'Средний выигрыш крестиков против случайной политики: {np.round(np.mean(results_3[1][-100:-1]), 3)}')\n",
        "print(f'Средний выигрыш ноликов против случайной политики: {np.round(np.mean(results_3[2][-100:-1]), 3)}')"
      ],
      "execution_count": null,
      "outputs": [
        {
          "output_type": "stream",
          "name": "stdout",
          "text": [
            "Средний выигрышь крестиков против случайной политики: 0.306\n",
            "Средний выигрышь ноликов против случайной политики: -0.097\n"
          ]
        },
        {
          "output_type": "display_data",
          "data": {
            "image/png": "[encoded data removed]",
            "text/plain": [
              "<Figure size 432x288 with 1 Axes>"
            ]
          },
          "metadata": {
            "needs_background": "light"
          }
        }
      ]
    },
    {
      "cell_type": "markdown",
      "metadata": {
        "id": "MbDaf1ZnIMcs"
      },
      "source": [
        "При заданных параметрах - не получилось эффективно обучить Q-стратегию для доски размера 5х5, при этом количество эпизодов и времени потребовалось значительно больше (2 млн эпизодов и ~3 часа времени)."
      ]
    },
    {
      "cell_type": "markdown",
      "metadata": {
        "id": "-GdQ8lm9-3lO"
      },
      "source": [
        "## Часть вторая: добавим нейронных сетей"
      ]
    },
    {
      "cell_type": "markdown",
      "metadata": {
        "id": "8ErAVm0__CAN"
      },
      "source": [
        "### Реализуйте DQN с нейронной сетью\n",
        "Обучите стратегии крестиков и ноликов. Замечание: скорее всего, experience replay потребуется сразу же."
      ]
    },
    {
      "cell_type": "code",
      "metadata": {
        "colab": {
          "base_uri": "https://localhost:8080/"
        },
        "id": "-SRVtPza_dxw",
        "outputId": "073ab4c2-b27b-4c32-f06d-939657a02d36"
      },
      "source": [
        "imp.reload(TicTacToeClasses)"
      ],
      "execution_count": null,
      "outputs": [
        {
          "output_type": "execute_result",
          "data": {
            "text/plain": [
              "<module 'TicTacToeClasses' from '/content/drive/My Drive/MADE/3-dl-rl/hw2/TicTacToeClasses.py'>"
            ]
          },
          "metadata": {},
          "execution_count": 99
        }
      ]
    },
    {
      "cell_type": "code",
      "metadata": {
        "id": "dk997LvrKzYy"
      },
      "source": [
        "import TicTacToeClasses\n",
        "from TicTacToeClasses import TicTacToeDQN, Network"
      ],
      "execution_count": null,
      "outputs": []
    },
    {
      "cell_type": "code",
      "metadata": {
        "id": "yeWFuBZnMxlz"
      },
      "source": [
        "def train(model, episodes, test_each, print_each):\n",
        "  indexes = [] \n",
        "  crosses_v, noughts_v = [], []\n",
        "  crosses_d, noughts_d = [], []\n",
        "\n",
        "  for i in tqdm.tqdm(range(1, episodes + 1)):\n",
        "    model.run_episode()\n",
        "    if i % test_each == 0:\n",
        "      crosses = model.play_game(1, episodes=500)\n",
        "      noughts = model.play_game(-1, episodes=500)\n",
        "      indexes.append(i)\n",
        "      crosses_v.append(np.mean(crosses == 1))\n",
        "      noughts_v.append(np.mean(noughts == 1))\n",
        "      crosses_d.append(np.mean(crosses == 0))\n",
        "      noughts_d.append(np.mean(noughts == 0))\n",
        "    if i % print_each == 0:\n",
        "      print(f'Episode {i}, cross reward: {np.mean(crosses == 1)}, nought reward: {np.mean(noughts == 1)}')\n",
        "\n",
        "  indexes = np.array(indexes)\n",
        "  crosses_v, noughts_v = np.array(crosses_v), np.array(noughts_v)\n",
        "  crosses_d, noughts_d = np.array(crosses_d), np.array(noughts_d)\n",
        "  results = np.vstack((indexes, crosses_v, noughts_v, crosses_d, noughts_d))\n",
        "\n",
        "  return results"
      ],
      "execution_count": null,
      "outputs": []
    },
    {
      "cell_type": "code",
      "metadata": {
        "id": "UKi3UbXPPQyD"
      },
      "source": [
        "def plot_results_with_draws(results):\n",
        "    plt.xlabel('Эпизодов')\n",
        "    plt.ylabel('Процент исходов')\n",
        "    plt.plot(results[0], results[1], label='Крестики выиграли')\n",
        "    plt.plot(results[0], results[2], label='Нолики выиграли')\n",
        "    plt.plot(results[0], results[3], label='Крестики сыграли в ничью')\n",
        "    plt.plot(results[0], results[4], label='Нолики сыграли в ничью')\n",
        "    plt.legend()"
      ],
      "execution_count": null,
      "outputs": []
    },
    {
      "cell_type": "code",
      "metadata": {
        "colab": {
          "base_uri": "https://localhost:8080/"
        },
        "id": "hllJ5uiUQMJz",
        "outputId": "d1e9f40f-9641-40e4-d2ab-4c86cdb92a99"
      },
      "source": [
        "episodes = 30000\n",
        "test_each = 1000\n",
        "print_each = 6000\n",
        "\n",
        "env = TicTacToe(3, 3, 3)\n",
        "desk = Network\n",
        "dqn = TicTacToeDQN(env, 3, 3, 3, desk)\n",
        "results_4 = train(dqn, episodes, test_each, print_each)"
      ],
      "execution_count": null,
      "outputs": [
        {
          "output_type": "stream",
          "name": "stderr",
          "text": [
            " 20%|██        | 6003/30000 [06:17<1:19:23,  5.04it/s]"
          ]
        },
        {
          "output_type": "stream",
          "name": "stdout",
          "text": [
            "Episode 6000, cross reward: 0.892, nought reward: 0.578\n"
          ]
        },
        {
          "output_type": "stream",
          "name": "stderr",
          "text": [
            " 40%|████      | 12002/30000 [12:50<1:09:09,  4.34it/s]"
          ]
        },
        {
          "output_type": "stream",
          "name": "stdout",
          "text": [
            "Episode 12000, cross reward: 0.882, nought reward: 0.634\n"
          ]
        },
        {
          "output_type": "stream",
          "name": "stderr",
          "text": [
            " 60%|██████    | 18004/30000 [20:08<26:29,  7.55it/s]"
          ]
        },
        {
          "output_type": "stream",
          "name": "stdout",
          "text": [
            "Episode 18000, cross reward: 0.922, nought reward: 0.58\n"
          ]
        },
        {
          "output_type": "stream",
          "name": "stderr",
          "text": [
            " 80%|████████  | 24002/30000 [27:07<25:04,  3.99it/s]"
          ]
        },
        {
          "output_type": "stream",
          "name": "stdout",
          "text": [
            "Episode 24000, cross reward: 0.944, nought reward: 0.634\n"
          ]
        },
        {
          "output_type": "stream",
          "name": "stderr",
          "text": [
            "100%|██████████| 30000/30000 [34:30<00:00, 14.49it/s]"
          ]
        },
        {
          "output_type": "stream",
          "name": "stdout",
          "text": [
            "Episode 30000, cross reward: 0.944, nought reward: 0.644\n"
          ]
        },
        {
          "output_type": "stream",
          "name": "stderr",
          "text": [
            "\n"
          ]
        }
      ]
    },
    {
      "cell_type": "code",
      "metadata": {
        "colab": {
          "base_uri": "https://localhost:8080/",
          "height": 279
        },
        "id": "zCOj-pZGgVIG",
        "outputId": "52a2f3e0-87cb-4d00-cb3e-f4eb83d0712f"
      },
      "source": [
        "plot_results_with_draws(results_4)"
      ],
      "execution_count": null,
      "outputs": [
        {
          "output_type": "display_data",
          "data": {
            "image/png": "[encoded data removed]",
            "text/plain": [
              "<Figure size 432x288 with 1 Axes>"
            ]
          },
          "metadata": {
            "needs_background": "light"
          }
        }
      ]
    },
    {
      "cell_type": "markdown",
      "metadata": {
        "id": "AhfAT_6ndxb9"
      },
      "source": [
        "DQN достаточно быстро нашла оптимальную стратегию, но дальнейшее обучение происходит медленно, в сравнении с обычным Q-обучением."
      ]
    },
    {
      "cell_type": "markdown",
      "metadata": {
        "id": "aBQusAVA_b5a"
      },
      "source": [
        "### Реализуйте Double DQN и/или Dueling DQN."
      ]
    },
    {
      "cell_type": "markdown",
      "metadata": {
        "id": "0-a-sBsKq55m"
      },
      "source": [
        "Посмотрим, улучшат ли наши результаты Double DQN и Dueling DQN"
      ]
    },
    {
      "cell_type": "code",
      "metadata": {
        "id": "YM5DjU_ed48D"
      },
      "source": [
        "imp.reload(TicTacToeClasses)\n",
        "from TicTacToeClasses import TicTacToeDoubleDQN"
      ],
      "execution_count": null,
      "outputs": []
    },
    {
      "cell_type": "code",
      "metadata": {
        "colab": {
          "base_uri": "https://localhost:8080/"
        },
        "id": "tranTWNMd98K",
        "outputId": "a49d1e3a-5101-485e-8a6e-fb4dc21cfa14"
      },
      "source": [
        "episodes = 30000\n",
        "test_each = 1000\n",
        "print_each = 6000\n",
        "\n",
        "env = TicTacToe(3, 3, 3)\n",
        "desk = Network\n",
        "ddqn = TicTacToeDoubleDQN(env, 3, 3, 3, desk)\n",
        "results_5 = train(dqn, episodes, test_each, print_each)"
      ],
      "execution_count": null,
      "outputs": [
        {
          "output_type": "stream",
          "name": "stderr",
          "text": [
            " 20%|██        | 6003/30000 [06:38<1:33:42,  4.27it/s]"
          ]
        },
        {
          "output_type": "stream",
          "name": "stdout",
          "text": [
            "Episode 6000, cross reward: 0.942, nought reward: 0.614\n"
          ]
        },
        {
          "output_type": "stream",
          "name": "stderr",
          "text": [
            " 40%|████      | 12001/30000 [14:19<1:32:25,  3.25it/s]"
          ]
        },
        {
          "output_type": "stream",
          "name": "stdout",
          "text": [
            "Episode 12000, cross reward: 0.92, nought reward: 0.662\n"
          ]
        },
        {
          "output_type": "stream",
          "name": "stderr",
          "text": [
            " 60%|██████    | 18002/30000 [23:22<1:11:56,  2.78it/s]"
          ]
        },
        {
          "output_type": "stream",
          "name": "stdout",
          "text": [
            "Episode 18000, cross reward: 0.954, nought reward: 0.692\n"
          ]
        },
        {
          "output_type": "stream",
          "name": "stderr",
          "text": [
            " 80%|████████  | 24001/30000 [33:39<32:43,  3.05it/s]"
          ]
        },
        {
          "output_type": "stream",
          "name": "stdout",
          "text": [
            "Episode 24000, cross reward: 0.958, nought reward: 0.674\n"
          ]
        },
        {
          "output_type": "stream",
          "name": "stderr",
          "text": [
            "100%|██████████| 30000/30000 [43:31<00:00, 11.49it/s]"
          ]
        },
        {
          "output_type": "stream",
          "name": "stdout",
          "text": [
            "Episode 30000, cross reward: 0.954, nought reward: 0.65\n"
          ]
        },
        {
          "output_type": "stream",
          "name": "stderr",
          "text": [
            "\n"
          ]
        }
      ]
    },
    {
      "cell_type": "code",
      "metadata": {
        "colab": {
          "base_uri": "https://localhost:8080/",
          "height": 279
        },
        "id": "l8G3_2tpgd_J",
        "outputId": "cbaf059b-8230-489a-ae4d-e4100dc81ba4"
      },
      "source": [
        "plot_results_with_draws(results_5)"
      ],
      "execution_count": null,
      "outputs": [
        {
          "output_type": "display_data",
          "data": {
            "image/png": "[encoded data removed]",
            "text/plain": [
              "<Figure size 432x288 with 1 Axes>"
            ]
          },
          "metadata": {
            "needs_background": "light"
          }
        }
      ]
    },
    {
      "cell_type": "markdown",
      "metadata": {
        "id": "4RDJFeHLeQyT"
      },
      "source": [
        "Double DQN еще быстрее находит оптимальную стратегию, но дальнейшее обучение также занимает много времени при небольшом росте выигрыша."
      ]
    },
    {
      "cell_type": "code",
      "metadata": {
        "id": "wRQoB9j9ePSC"
      },
      "source": [
        "imp.reload(TicTacToeClasses)\n",
        "from TicTacToeClasses import DuelingNetwork"
      ],
      "execution_count": null,
      "outputs": []
    },
    {
      "cell_type": "code",
      "metadata": {
        "colab": {
          "base_uri": "https://localhost:8080/"
        },
        "id": "bJMJ9lnYeW7w",
        "outputId": "d739dc9a-4552-4843-a52b-c79e718bac17"
      },
      "source": [
        "episodes = 30000\n",
        "test_each = 1000\n",
        "print_each = 6000\n",
        "\n",
        "env = TicTacToe(3, 3, 3)\n",
        "ddesk = DuelingNetwork\n",
        "ddqn = TicTacToeDoubleDQN(env, 3, 3, 3, desk)\n",
        "results_6 = train(dqn, episodes, test_each, print_each)"
      ],
      "execution_count": null,
      "outputs": [
        {
          "output_type": "stream",
          "name": "stderr",
          "text": [
            " 20%|██        | 6001/30000 [09:52<1:56:54,  3.42it/s]"
          ]
        },
        {
          "output_type": "stream",
          "name": "stdout",
          "text": [
            "Episode 6000, cross reward: 0.964, nought reward: 0.714\n"
          ]
        },
        {
          "output_type": "stream",
          "name": "stderr",
          "text": [
            " 40%|████      | 12001/30000 [21:20<2:23:42,  2.09it/s]"
          ]
        },
        {
          "output_type": "stream",
          "name": "stdout",
          "text": [
            "Episode 12000, cross reward: 0.976, nought reward: 0.628\n"
          ]
        },
        {
          "output_type": "stream",
          "name": "stderr",
          "text": [
            " 60%|██████    | 18001/30000 [34:01<1:28:53,  2.25it/s]"
          ]
        },
        {
          "output_type": "stream",
          "name": "stdout",
          "text": [
            "Episode 18000, cross reward: 0.966, nought reward: 0.676\n"
          ]
        },
        {
          "output_type": "stream",
          "name": "stderr",
          "text": [
            " 80%|████████  | 24001/30000 [48:26<48:03,  2.08it/s]  "
          ]
        },
        {
          "output_type": "stream",
          "name": "stdout",
          "text": [
            "Episode 24000, cross reward: 0.952, nought reward: 0.636\n"
          ]
        },
        {
          "output_type": "stream",
          "name": "stderr",
          "text": [
            "100%|██████████| 30000/30000 [1:01:52<00:00,  8.08it/s]"
          ]
        },
        {
          "output_type": "stream",
          "name": "stdout",
          "text": [
            "Episode 30000, cross reward: 0.964, nought reward: 0.61\n"
          ]
        },
        {
          "output_type": "stream",
          "name": "stderr",
          "text": [
            "\n"
          ]
        }
      ]
    },
    {
      "cell_type": "code",
      "metadata": {
        "colab": {
          "base_uri": "https://localhost:8080/",
          "height": 279
        },
        "id": "qQkgXeC7gfky",
        "outputId": "6916286d-c79b-4de3-d07a-ae1a9fe6baca"
      },
      "source": [
        "plot_results_with_draws(results_6)"
      ],
      "execution_count": null,
      "outputs": [
        {
          "output_type": "display_data",
          "data": {
            "image/png": "[encoded data removed]",
            "text/plain": [
              "<Figure size 432x288 with 1 Axes>"
            ]
          },
          "metadata": {
            "needs_background": "light"
          }
        }
      ]
    },
    {
      "cell_type": "markdown",
      "metadata": {
        "id": "lu9g_g4TeYAD"
      },
      "source": [
        "Комбинирование Double и Dueling улучшило предыдущие результаты, но в целом проблемы сохранились."
      ]
    },
    {
      "cell_type": "markdown",
      "metadata": {
        "id": "qlXev2g1g10X"
      },
      "source": [
        "## Часть третья: расширим и углубим поиск"
      ]
    },
    {
      "cell_type": "markdown",
      "metadata": {
        "id": "mS92BzK2hTjV"
      },
      "source": [
        "###Реализуйте rollouts со случайной стратегией \n",
        "И (опционально) rollouts с неслучайной, но простой стратегией (например, основанной на дополнении нескольких паттернов или на Q-функции, которая у вас получилась в первом пункте)."
      ]
    },
    {
      "cell_type": "code",
      "metadata": {
        "id": "cG-pPRBrg3_1"
      },
      "source": [
        "def do_rollouts(env, action, p_1=None, p_2=None, rollouts=100):\n",
        "\n",
        "  rewards = []\n",
        "  for i in range(rollouts):\n",
        "    env_copy = copy.deepcopy(env)\n",
        "    (board_hash, empty_spaces, cur_turn), reward, done, _ = env_copy.step(action)\n",
        "\n",
        "    while not done:\n",
        "      if cur_turn == 1:\n",
        "        a, idx = get_action_g(p_1, board_hash, empty_spaces)\n",
        "        state, reward, done, _ = env_copy.step(a)\n",
        "        board_hash_main, empty_spaces_main, cur_turn_main = state\n",
        "      elif cur_turn == -1:\n",
        "        a, idx = get_action_g(p_2, board_hash, empty_spaces)\n",
        "        state, reward, done, _ = env_copy.step(a)\n",
        "        board_hash_main, empty_spaces_main, cur_turn_main = state\n",
        "      else:\n",
        "        raise Exception('Может быть только 2 игрока')\n",
        "    \n",
        "      board_hash, empty_spaces, cur_turn = board_hash_main, empty_spaces_main, cur_turn_main\n",
        "\n",
        "    rewards.append(reward)  \n",
        "  return np.array(reward).mean()"
      ],
      "execution_count": 14,
      "outputs": []
    },
    {
      "cell_type": "code",
      "metadata": {
        "id": "4M2iONAjxb9s"
      },
      "source": [
        "def play_with_rollouts(env, p_1=None, p_2=None, mode=\"normal\"):\n",
        "  env.reset()\n",
        "  board_hash, empty_spaces, cur_turn = env.getState()\n",
        "  reward, done = 0, False\n",
        "\n",
        "  if mode == \"random\":\n",
        "    p_1, p_2 = \"pass\", \"pass\"\n",
        "\n",
        "  while not done:\n",
        "    if cur_turn == 1:\n",
        "      if p_1:\n",
        "        if mode == \"random\":\n",
        "          p_1 = None\n",
        "        idx, best_reward = 0, -10\n",
        "        for i, action in enumerate(empty_spaces):\n",
        "          avg_reward = do_rollouts(env, action, p_1, None)\n",
        "          if avg_reward > best_reward:\n",
        "            idx, best_reward = i, avg_reward\n",
        "      else:\n",
        "        idx = np.random.randint(len(empty_spaces))\n",
        "      a = empty_spaces[idx]\n",
        "      state, reward, done, _ = env.step(a)\n",
        "      board_hash_main, empty_spaces_main, cur_turn_main = state\n",
        "    elif cur_turn == -1:\n",
        "      if p_2:\n",
        "        if mode == \"random\":\n",
        "          p_2 = None\n",
        "        idx, best_reward = 0, -10\n",
        "        for i, action in enumerate(empty_spaces):\n",
        "          avg_reward = do_rollouts(env, action, None, p_2)\n",
        "          if avg_reward > best_reward:\n",
        "            idx, best_reward = i, avg_reward\n",
        "      else:\n",
        "        idx = np.random.randint(len(empty_spaces))\n",
        "      a = empty_spaces[idx]\n",
        "      state, reward, done, _ = env.step(a)\n",
        "      board_hash_main, empty_spaces_main, cur_turn_main = state\n",
        "    else:\n",
        "      raise Exception('Может быть только 2 игрока')\n",
        "\n",
        "    board_hash, empty_spaces, cur_turn = board_hash_main, empty_spaces_main, cur_turn_main\n",
        "\n",
        "  return reward\n",
        "    "
      ],
      "execution_count": 76,
      "outputs": []
    },
    {
      "cell_type": "code",
      "metadata": {
        "id": "-p9YAHtK5Ays"
      },
      "source": [
        "def run_experiment_with_rollouts(env, p_1, p_2, episodes, mode=\"normal\"):\n",
        "  rewards = []\n",
        "  for i in tqdm.tqdm(range(1, episodes + 1)):\n",
        "    reward = play_with_rollouts(env, p_1, p_2, mode=mode)\n",
        "    rewards.append(reward)\n",
        "\n",
        "  return rewards"
      ],
      "execution_count": 74,
      "outputs": []
    },
    {
      "cell_type": "code",
      "metadata": {
        "id": "DafxlaIH_7AU"
      },
      "source": [
        "def run_random_experiment(env, episodes):\n",
        "  rewards = []\n",
        "  for i in tqdm.tqdm(range(1, episodes + 1)):\n",
        "    reward = play_game(env)\n",
        "    rewards.append(reward)\n",
        "\n",
        "  return rewards"
      ],
      "execution_count": 65,
      "outputs": []
    },
    {
      "cell_type": "markdown",
      "metadata": {
        "id": "w0Zuj76jBFJx"
      },
      "source": [
        "**Сперва проведем эксперимент с просто рандомными ходами двух игроков.**"
      ]
    },
    {
      "cell_type": "code",
      "metadata": {
        "colab": {
          "base_uri": "https://localhost:8080/"
        },
        "id": "ELQ80RhKAC_D",
        "outputId": "cd2f4fab-f71f-444e-ed4b-9977937c3d8c"
      },
      "source": [
        "env = TicTacToe(3, 3, 3)\n",
        "episodes = 10000\n",
        "\n",
        "results_9 = run_random_experiment(env, episodes)"
      ],
      "execution_count": 68,
      "outputs": [
        {
          "output_type": "stream",
          "name": "stderr",
          "text": [
            "100%|██████████| 10000/10000 [00:06<00:00, 1654.34it/s]\n"
          ]
        }
      ]
    },
    {
      "cell_type": "code",
      "metadata": {
        "colab": {
          "base_uri": "https://localhost:8080/"
        },
        "id": "6qMkzO6KAWNW",
        "outputId": "9bdde433-6f1f-4f9a-af17-94701e80e310"
      },
      "source": [
        "print(f'Средний выигрыш крестиков: {np.round(np.mean(results_9), 3)}')"
      ],
      "execution_count": 69,
      "outputs": [
        {
          "output_type": "stream",
          "name": "stdout",
          "text": [
            "Средний выигрыш крестиков: 0.292\n"
          ]
        }
      ]
    },
    {
      "cell_type": "markdown",
      "metadata": {
        "id": "7xVRHqalBOl1"
      },
      "source": [
        "**Как мы видим, первый ход имеет большое значение в игре 3х3.** Посмотрим, как скажется наличие роллаутов для двух игроков."
      ]
    },
    {
      "cell_type": "code",
      "metadata": {
        "colab": {
          "base_uri": "https://localhost:8080/"
        },
        "id": "HA561AS7xthH",
        "outputId": "3fba7af6-8040-4bc4-e2f0-bd86572fe3fa"
      },
      "source": [
        "episodes = 200\n",
        "\n",
        "results_10 = run_experiment_with_rollouts(env, None, None, episodes, mode=\"random\")"
      ],
      "execution_count": 77,
      "outputs": [
        {
          "output_type": "stream",
          "name": "stderr",
          "text": [
            "100%|██████████| 200/200 [03:12<00:00,  1.04it/s]\n"
          ]
        }
      ]
    },
    {
      "cell_type": "code",
      "metadata": {
        "colab": {
          "base_uri": "https://localhost:8080/"
        },
        "id": "FKUq9W6R8CX7",
        "outputId": "fc11a093-9b92-4521-c53a-89a07d85e401"
      },
      "source": [
        "print(f'Средний выигрыш крестиков: {np.round(np.mean(results_10), 3)}')"
      ],
      "execution_count": 78,
      "outputs": [
        {
          "output_type": "stream",
          "name": "stdout",
          "text": [
            "Средний выигрыш крестиков: 0.265\n"
          ]
        }
      ]
    },
    {
      "cell_type": "markdown",
      "metadata": {
        "id": "_zqOxcEhBxS1"
      },
      "source": [
        "Проведя несколько экспериментов с роллаутами можно заметить, что выигрыш крестиков не превышает средний выигрыш при полностью рандомной игре. Это объясняется тем, что действия при роллауте также являются рандомными и не дают явного преимущества. Но это должно измениться, если применим к роллауты к политикам, даже если они слабообученны.\n"
      ]
    },
    {
      "cell_type": "code",
      "metadata": {
        "colab": {
          "base_uri": "https://localhost:8080/"
        },
        "id": "9TcMiNMTE2PP",
        "outputId": "b5877deb-3565-4e7b-89d6-6786e1f47fe7"
      },
      "source": [
        "p_1 = Policy()\n",
        "p_2 = Policy()\n",
        "\n",
        "episodes = 200\n",
        "test_each = 10\n",
        "print_each = 40\n",
        "\n",
        "results_11 = run_experiment(env, p_1, p_2, episodes, test_each, print_each)"
      ],
      "execution_count": 79,
      "outputs": [
        {
          "output_type": "stream",
          "name": "stderr",
          "text": [
            " 20%|██        | 40/200 [00:02<00:10, 15.40it/s]"
          ]
        },
        {
          "output_type": "stream",
          "name": "stdout",
          "text": [
            "Episode 40, cross reward: 0.29, nought reward: -0.324\n"
          ]
        },
        {
          "output_type": "stream",
          "name": "stderr",
          "text": [
            " 45%|████▌     | 90/200 [00:05<00:07, 15.13it/s]"
          ]
        },
        {
          "output_type": "stream",
          "name": "stdout",
          "text": [
            "Episode 80, cross reward: 0.432, nought reward: -0.332\n"
          ]
        },
        {
          "output_type": "stream",
          "name": "stderr",
          "text": [
            " 65%|██████▌   | 130/200 [00:08<00:04, 14.68it/s]"
          ]
        },
        {
          "output_type": "stream",
          "name": "stdout",
          "text": [
            "Episode 120, cross reward: 0.332, nought reward: -0.342\n"
          ]
        },
        {
          "output_type": "stream",
          "name": "stderr",
          "text": [
            " 80%|████████  | 160/200 [00:10<00:02, 14.71it/s]"
          ]
        },
        {
          "output_type": "stream",
          "name": "stdout",
          "text": [
            "Episode 160, cross reward: 0.378, nought reward: -0.262\n"
          ]
        },
        {
          "output_type": "stream",
          "name": "stderr",
          "text": [
            "100%|██████████| 200/200 [00:13<00:00, 15.05it/s]"
          ]
        },
        {
          "output_type": "stream",
          "name": "stdout",
          "text": [
            "Episode 200, cross reward: 0.496, nought reward: -0.22\n"
          ]
        },
        {
          "output_type": "stream",
          "name": "stderr",
          "text": [
            "\n"
          ]
        }
      ]
    },
    {
      "cell_type": "code",
      "metadata": {
        "colab": {
          "base_uri": "https://localhost:8080/"
        },
        "id": "fcgfmCe0FYTI",
        "outputId": "5afacef8-3721-4002-8990-8672ede6299d"
      },
      "source": [
        "print(f'Средний выигрыш крестиков против случайной политики: {np.round(np.mean(results_11[1]), 3)}')\n",
        "print(f'Средний выигрыш ноликов против случайной политики: {np.round(np.mean(results_11[2]), 3)}')"
      ],
      "execution_count": 80,
      "outputs": [
        {
          "output_type": "stream",
          "name": "stdout",
          "text": [
            "Средний выигрыш крестиков против случайной политики: 0.368\n",
            "Средний выигрыш ноликов против случайной политики: -0.284\n"
          ]
        }
      ]
    },
    {
      "cell_type": "code",
      "metadata": {
        "colab": {
          "base_uri": "https://localhost:8080/"
        },
        "id": "bLM680eyFl3L",
        "outputId": "984ed3fd-2991-465f-b495-501afd26c52f"
      },
      "source": [
        "episodes = 100\n",
        "\n",
        "results_12 = run_experiment_with_rollouts(env, p_1, None, episodes)\n",
        "print(f'Средний выигрыш крестиков: {np.round(np.mean(results_12), 3)}')"
      ],
      "execution_count": 82,
      "outputs": [
        {
          "output_type": "stream",
          "name": "stderr",
          "text": [
            "100%|██████████| 100/100 [01:45<00:00,  1.06s/it]"
          ]
        },
        {
          "output_type": "stream",
          "name": "stdout",
          "text": [
            "Средний выигрыш крестиков: 0.77\n"
          ]
        },
        {
          "output_type": "stream",
          "name": "stderr",
          "text": [
            "\n"
          ]
        }
      ]
    },
    {
      "cell_type": "code",
      "metadata": {
        "colab": {
          "base_uri": "https://localhost:8080/"
        },
        "id": "qEhkp2dTF6Hu",
        "outputId": "3f5b2c34-29bd-4ee1-81e5-b96e3833e226"
      },
      "source": [
        "results_13 = run_experiment_with_rollouts(env, None, p_2, episodes)\n",
        "print(f'Средний выигрыш ноликов: {np.round(np.mean(results_13), 3)}')"
      ],
      "execution_count": 83,
      "outputs": [
        {
          "output_type": "stream",
          "name": "stderr",
          "text": [
            "100%|██████████| 100/100 [01:18<00:00,  1.27it/s]"
          ]
        },
        {
          "output_type": "stream",
          "name": "stdout",
          "text": [
            "Средний выигрыш ноликов: 0.81\n"
          ]
        },
        {
          "output_type": "stream",
          "name": "stderr",
          "text": [
            "\n"
          ]
        }
      ]
    },
    {
      "cell_type": "markdown",
      "metadata": {
        "id": "vofRFEOzL083"
      },
      "source": [
        "**Роллауты существенно улучшили результат за короткое время.** Но если Q-обучение достаточно хорошо обучилось на большом количестве игр на доске 3х3, то с досками больших размерностей были проблемы."
      ]
    },
    {
      "cell_type": "code",
      "metadata": {
        "colab": {
          "base_uri": "https://localhost:8080/"
        },
        "id": "BxCKd-heMXok",
        "outputId": "f307caa7-0780-4055-a835-9c5e77b48db5"
      },
      "source": [
        "env = TicTacToe(4, 4, 4)\n",
        "p_1 = Policy()\n",
        "p_2 = Policy()\n",
        "\n",
        "episodes = 1000\n",
        "test_each = 100\n",
        "print_each = 200\n",
        "\n",
        "results_14 = run_experiment(env, p_1, p_2, episodes, test_each, print_each)"
      ],
      "execution_count": 85,
      "outputs": [
        {
          "output_type": "stream",
          "name": "stderr",
          "text": [
            " 20%|██        | 200/1000 [00:29<01:57,  6.78it/s]"
          ]
        },
        {
          "output_type": "stream",
          "name": "stdout",
          "text": [
            "Episode 200, cross reward: 0.102, nought reward: -0.074\n"
          ]
        },
        {
          "output_type": "stream",
          "name": "stderr",
          "text": [
            " 40%|████      | 400/1000 [00:59<01:29,  6.67it/s]"
          ]
        },
        {
          "output_type": "stream",
          "name": "stdout",
          "text": [
            "Episode 400, cross reward: 0.068, nought reward: -0.05\n"
          ]
        },
        {
          "output_type": "stream",
          "name": "stderr",
          "text": [
            " 60%|██████    | 600/1000 [01:29<01:00,  6.66it/s]"
          ]
        },
        {
          "output_type": "stream",
          "name": "stdout",
          "text": [
            "Episode 600, cross reward: 0.102, nought reward: 0.014\n"
          ]
        },
        {
          "output_type": "stream",
          "name": "stderr",
          "text": [
            " 80%|████████  | 800/1000 [01:58<00:29,  6.74it/s]"
          ]
        },
        {
          "output_type": "stream",
          "name": "stdout",
          "text": [
            "Episode 800, cross reward: 0.126, nought reward: -0.046\n"
          ]
        },
        {
          "output_type": "stream",
          "name": "stderr",
          "text": [
            "100%|██████████| 1000/1000 [02:28<00:00,  6.73it/s]"
          ]
        },
        {
          "output_type": "stream",
          "name": "stdout",
          "text": [
            "Episode 1000, cross reward: 0.096, nought reward: -0.052\n"
          ]
        },
        {
          "output_type": "stream",
          "name": "stderr",
          "text": [
            "\n"
          ]
        }
      ]
    },
    {
      "cell_type": "code",
      "metadata": {
        "colab": {
          "base_uri": "https://localhost:8080/"
        },
        "id": "UMEOsE23MhN3",
        "outputId": "e21b8c70-7cb3-417c-a152-157c77251104"
      },
      "source": [
        "print(f'Средний выигрыш крестиков против случайной политики: {np.round(np.mean(results_14[1]), 3)}')\n",
        "print(f'Средний выигрыш ноликов против случайной политики: {np.round(np.mean(results_14[2]), 3)}')"
      ],
      "execution_count": 86,
      "outputs": [
        {
          "output_type": "stream",
          "name": "stdout",
          "text": [
            "Средний выигрыш крестиков против случайной политики: 0.077\n",
            "Средний выигрыш ноликов против случайной политики: -0.046\n"
          ]
        }
      ]
    },
    {
      "cell_type": "code",
      "metadata": {
        "colab": {
          "base_uri": "https://localhost:8080/"
        },
        "id": "NxmPJwflNHyy",
        "outputId": "a559c531-5629-4320-bcdc-adc429ac035c"
      },
      "source": [
        "episodes = 100\n",
        "\n",
        "results_15 = run_experiment_with_rollouts(env, p_1, None, episodes)\n",
        "print(f'Средний выигрыш крестиков: {np.round(np.mean(results_15), 3)}')"
      ],
      "execution_count": 87,
      "outputs": [
        {
          "output_type": "stream",
          "name": "stderr",
          "text": [
            "100%|██████████| 100/100 [11:28<00:00,  6.89s/it]"
          ]
        },
        {
          "output_type": "stream",
          "name": "stdout",
          "text": [
            "Средний выигрыш крестиков: 0.72\n"
          ]
        },
        {
          "output_type": "stream",
          "name": "stderr",
          "text": [
            "\n"
          ]
        }
      ]
    },
    {
      "cell_type": "code",
      "metadata": {
        "colab": {
          "base_uri": "https://localhost:8080/"
        },
        "id": "L0ar7XtwM8pC",
        "outputId": "32285b6a-2def-48a2-d15a-e3326842d907"
      },
      "source": [
        "results_16 = run_experiment_with_rollouts(env, None, p_2, episodes)\n",
        "print(f'Средний выигрыш ноликов: {np.round(np.mean(results_16), 3)}')"
      ],
      "execution_count": 88,
      "outputs": [
        {
          "output_type": "stream",
          "name": "stderr",
          "text": [
            "100%|██████████| 100/100 [09:56<00:00,  5.97s/it]"
          ]
        },
        {
          "output_type": "stream",
          "name": "stdout",
          "text": [
            "Средний выигрыш ноликов: 0.38\n"
          ]
        },
        {
          "output_type": "stream",
          "name": "stderr",
          "text": [
            "\n"
          ]
        }
      ]
    },
    {
      "cell_type": "markdown",
      "metadata": {
        "id": "TuTuZjTwNtRZ"
      },
      "source": [
        "**То, на что нам потребовалось 50 минут было достигнуто за 10 минут.** Также проверим как обстоят дела с доской 5х5"
      ]
    },
    {
      "cell_type": "code",
      "metadata": {
        "colab": {
          "base_uri": "https://localhost:8080/"
        },
        "id": "mYI9QhvCN244",
        "outputId": "de638518-fd83-4c15-c8cb-e54cd9b34def"
      },
      "source": [
        "env = TicTacToe(5, 5, 5)\n",
        "p_1 = Policy()\n",
        "p_2 = Policy()\n",
        "\n",
        "episodes = 10000\n",
        "test_each = 1000\n",
        "print_each = 2000\n",
        "\n",
        "results_17 = run_experiment(env, p_1, p_2, episodes, test_each, print_each)"
      ],
      "execution_count": 89,
      "outputs": [
        {
          "output_type": "stream",
          "name": "stderr",
          "text": [
            " 20%|██        | 2049/10000 [00:12<03:09, 41.94it/s]"
          ]
        },
        {
          "output_type": "stream",
          "name": "stdout",
          "text": [
            "Episode 2000, cross reward: 0.026, nought reward: -0.08\n"
          ]
        },
        {
          "output_type": "stream",
          "name": "stderr",
          "text": [
            " 40%|████      | 4034/10000 [00:25<02:25, 40.99it/s]"
          ]
        },
        {
          "output_type": "stream",
          "name": "stdout",
          "text": [
            "Episode 4000, cross reward: 0.08, nought reward: -0.096\n"
          ]
        },
        {
          "output_type": "stream",
          "name": "stderr",
          "text": [
            " 60%|██████    | 6049/10000 [00:38<01:39, 39.80it/s]"
          ]
        },
        {
          "output_type": "stream",
          "name": "stdout",
          "text": [
            "Episode 6000, cross reward: 0.136, nought reward: -0.11\n"
          ]
        },
        {
          "output_type": "stream",
          "name": "stderr",
          "text": [
            " 81%|████████  | 8052/10000 [00:51<00:48, 39.80it/s]"
          ]
        },
        {
          "output_type": "stream",
          "name": "stdout",
          "text": [
            "Episode 8000, cross reward: 0.128, nought reward: -0.156\n"
          ]
        },
        {
          "output_type": "stream",
          "name": "stderr",
          "text": [
            "100%|██████████| 10000/10000 [01:04<00:00, 155.41it/s]"
          ]
        },
        {
          "output_type": "stream",
          "name": "stdout",
          "text": [
            "Episode 10000, cross reward: 0.118, nought reward: -0.094\n"
          ]
        },
        {
          "output_type": "stream",
          "name": "stderr",
          "text": [
            "\n"
          ]
        }
      ]
    },
    {
      "cell_type": "code",
      "metadata": {
        "colab": {
          "base_uri": "https://localhost:8080/"
        },
        "id": "G5z9HVbjOV7W",
        "outputId": "b0ab8c4f-c611-4627-de2c-63804888d10a"
      },
      "source": [
        "print(f'Средний выигрыш крестиков против случайной политики: {np.round(np.mean(results_17[1]), 3)}')\n",
        "print(f'Средний выигрыш ноликов против случайной политики: {np.round(np.mean(results_17[2]), 3)}')"
      ],
      "execution_count": 90,
      "outputs": [
        {
          "output_type": "stream",
          "name": "stdout",
          "text": [
            "Средний выигрыш крестиков против случайной политики: 0.107\n",
            "Средний выигрыш ноликов против случайной политики: -0.092\n"
          ]
        }
      ]
    },
    {
      "cell_type": "code",
      "metadata": {
        "colab": {
          "base_uri": "https://localhost:8080/"
        },
        "id": "of9PwAlwOYdK",
        "outputId": "d88f0665-719c-4255-9ede-a57552cd3dbb"
      },
      "source": [
        "episodes = 100\n",
        "\n",
        "results_18 = run_experiment_with_rollouts(env, p_1, None, episodes)\n",
        "print(f'Средний выигрыш крестиков: {np.round(np.mean(results_18), 3)}')"
      ],
      "execution_count": 91,
      "outputs": [
        {
          "output_type": "stream",
          "name": "stderr",
          "text": [
            "100%|██████████| 100/100 [52:22<00:00, 31.43s/it]"
          ]
        },
        {
          "output_type": "stream",
          "name": "stdout",
          "text": [
            "Средний выигрыш крестиков: 0.61\n"
          ]
        },
        {
          "output_type": "stream",
          "name": "stderr",
          "text": [
            "\n"
          ]
        }
      ]
    },
    {
      "cell_type": "code",
      "metadata": {
        "colab": {
          "base_uri": "https://localhost:8080/"
        },
        "id": "BkeZJ0uqObMD",
        "outputId": "726998a0-a1ea-4fcb-d514-371e8858c7a3"
      },
      "source": [
        "results_19 = run_experiment_with_rollouts(env, None, p_2, episodes)\n",
        "print(f'Средний выигрыш ноликов: {np.round(np.mean(results_19), 3)}')"
      ],
      "execution_count": 92,
      "outputs": [
        {
          "output_type": "stream",
          "name": "stderr",
          "text": [
            "100%|██████████| 100/100 [48:39<00:00, 29.20s/it]"
          ]
        },
        {
          "output_type": "stream",
          "name": "stdout",
          "text": [
            "Средний выигрыш ноликов: 0.79\n"
          ]
        },
        {
          "output_type": "stream",
          "name": "stderr",
          "text": [
            "\n"
          ]
        }
      ]
    },
    {
      "cell_type": "markdown",
      "metadata": {
        "id": "nxb6wjgDOgO_"
      },
      "source": [
        "Роллауты позволяют нам повышать качество моделей, экономя вычислительные и  временные ресурсы."
      ]
    }
  ]
}