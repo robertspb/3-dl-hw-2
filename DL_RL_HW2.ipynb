{
  "nbformat": 4,
  "nbformat_minor": 0,
  "metadata": {
    "colab": {
      "name": "DL_RL_HW2.ipynb",
      "provenance": [],
      "collapsed_sections": []
    },
    "kernelspec": {
      "name": "python3",
      "display_name": "Python 3"
    },
    "language_info": {
      "name": "python"
    }
  },
  "cells": [
    {
      "cell_type": "markdown",
      "metadata": {
        "id": "5f6O21FTA0M5"
      },
      "source": [
        "# RL and Advanced DL: Домашнее задание 2"
      ]
    },
    {
      "cell_type": "markdown",
      "metadata": {
        "id": "FOYL7ouKCKGL"
      },
      "source": [
        "## Imports & TicTacToe env"
      ]
    },
    {
      "cell_type": "code",
      "metadata": {
        "id": "vePsseIKEXTE"
      },
      "source": [
        "import gym\n",
        "\n",
        "import matplotlib as mpl\n",
        "import matplotlib.pyplot as plt\n",
        "import numpy as np\n",
        "import math\n",
        "import random\n",
        "import seaborn as sns\n",
        "\n",
        "import torch\n",
        "import torch.nn as nn\n",
        "import torch.optim as optim\n",
        "import torch.nn.functional as F\n",
        "import torchvision.transforms as T\n",
        "from torch.autograd import Variable\n",
        "import tqdm"
      ],
      "execution_count": 90,
      "outputs": []
    },
    {
      "cell_type": "code",
      "metadata": {
        "id": "jvXTk36cCPPv"
      },
      "source": [
        "N_ROWS, N_COLS, N_WIN = 3, 3, 3"
      ],
      "execution_count": 91,
      "outputs": []
    },
    {
      "cell_type": "code",
      "metadata": {
        "id": "jv0E8zL3CSzm"
      },
      "source": [
        "class TicTacToe(gym.Env):\n",
        "    def __init__(self, n_rows=N_ROWS, n_cols=N_COLS, n_win=N_WIN, clone=None):\n",
        "        if clone is not None:\n",
        "            self.n_rows, self.n_cols, self.n_win = clone.n_rows, clone.n_cols, clone.n_win\n",
        "            self.board = copy.deepcopy(clone.board)\n",
        "            self.curTurn = clone.curTurn\n",
        "            self.emptySpaces = None\n",
        "            self.boardHash = None\n",
        "        else:\n",
        "            self.n_rows = n_rows\n",
        "            self.n_cols = n_cols\n",
        "            self.n_win = n_win\n",
        "\n",
        "            self.reset()\n",
        "\n",
        "    def getEmptySpaces(self):\n",
        "        if self.emptySpaces is None:\n",
        "            res = np.where(self.board == 0)\n",
        "            self.emptySpaces = np.array([ (i, j) for i,j in zip(res[0], res[1]) ])\n",
        "        return self.emptySpaces\n",
        "\n",
        "    def makeMove(self, player, i, j):\n",
        "        self.board[i, j] = player\n",
        "        self.emptySpaces = None\n",
        "        self.boardHash = None\n",
        "\n",
        "    def getHash(self):\n",
        "        if self.boardHash is None:\n",
        "            self.boardHash = ''.join(['%s' % (x+1) for x in self.board.reshape(self.n_rows * self.n_cols)])\n",
        "        return self.boardHash\n",
        "\n",
        "    def isTerminal(self):\n",
        "        # проверим, не закончилась ли игра\n",
        "        cur_marks, cur_p = np.where(self.board == self.curTurn), self.curTurn\n",
        "        for i,j in zip(cur_marks[0], cur_marks[1]):\n",
        "            win = False\n",
        "            if i <= self.n_rows - self.n_win:\n",
        "                if np.all(self.board[i:i+self.n_win, j] == cur_p):\n",
        "                    win = True\n",
        "            if not win:\n",
        "                if j <= self.n_cols - self.n_win:\n",
        "                    if np.all(self.board[i,j:j+self.n_win] == cur_p):\n",
        "                        win = True\n",
        "            if not win:\n",
        "                if i <= self.n_rows - self.n_win and j <= self.n_cols - self.n_win:\n",
        "                    if np.all(np.array([ self.board[i+k,j+k] == cur_p for k in range(self.n_win) ])):\n",
        "                        win = True\n",
        "            if not win:\n",
        "                if i <= self.n_rows - self.n_win and j >= self.n_win-1:\n",
        "                    if np.all(np.array([ self.board[i+k,j-k] == cur_p for k in range(self.n_win) ])):\n",
        "                        win = True\n",
        "            if win:\n",
        "                self.gameOver = True\n",
        "                return self.curTurn\n",
        "\n",
        "        if len(self.getEmptySpaces()) == 0:\n",
        "            self.gameOver = True\n",
        "            return 0\n",
        "\n",
        "        self.gameOver = False\n",
        "        return None\n",
        "\n",
        "    def printBoard(self):\n",
        "        for i in range(0, self.n_rows):\n",
        "            print('----'*(self.n_cols)+'-')\n",
        "            out = '| '\n",
        "            for j in range(0, self.n_cols):\n",
        "                if self.board[i, j] == 1:\n",
        "                    token = 'x'\n",
        "                if self.board[i, j] == -1:\n",
        "                    token = 'o'\n",
        "                if self.board[i, j] == 0:\n",
        "                    token = ' '\n",
        "                out += token + ' | '\n",
        "            print(out)\n",
        "        print('----'*(self.n_cols)+'-')\n",
        "\n",
        "    def getState(self):\n",
        "        return (self.getHash(), self.getEmptySpaces(), self.curTurn)\n",
        "\n",
        "    def action_from_int(self, action_int):\n",
        "        return ( int(action_int / self.n_cols), int(action_int % self.n_cols))\n",
        "\n",
        "    def int_from_action(self, action):\n",
        "        return action[0] * self.n_cols + action[1]\n",
        "    \n",
        "    def step(self, action):\n",
        "        if self.board[action[0], action[1]] != 0:\n",
        "            return self.getState(), -10, True, {}\n",
        "        self.makeMove(self.curTurn, action[0], action[1])\n",
        "        reward = self.isTerminal()\n",
        "        self.curTurn = -self.curTurn\n",
        "        return self.getState(), 0 if reward is None else reward, reward is not None, {}\n",
        "\n",
        "    def reset(self):\n",
        "        self.board = np.zeros((self.n_rows, self.n_cols), dtype=int)\n",
        "        self.boardHash = None\n",
        "        self.gameOver = False\n",
        "        self.emptySpaces = None\n",
        "        self.curTurn = 1"
      ],
      "execution_count": 92,
      "outputs": []
    },
    {
      "cell_type": "code",
      "metadata": {
        "id": "-iMBtLVgCaSy"
      },
      "source": [
        "def plot_board(env, pi, showtext=True, verbose=True, fontq=20, fontx=60):\n",
        "    '''Рисуем доску с оценками из стратегии pi'''\n",
        "    fig, ax = plt.subplots(1, 1, figsize=(10, 10))\n",
        "    X, Y = np.meshgrid(np.arange(0, env.n_rows), np.arange(0, env.n_rows))\n",
        "    Z = np.zeros((env.n_rows, env.n_cols)) + .01\n",
        "    s, actions = env.getHash(), env.getEmptySpaces()\n",
        "    if pi is not None and s in pi.Q:\n",
        "        for i, a in enumerate(actions):\n",
        "            Z[a[0], a[1]] = pi.Q[s][i]\n",
        "    ax.set_xticks([])\n",
        "    ax.set_yticks([])\n",
        "    surf = ax.imshow(Z, cmap=plt.get_cmap('Accent', 10), vmin=-1, vmax=1)\n",
        "    if showtext:\n",
        "        for i,a in enumerate(actions):\n",
        "            if pi is not None and s in pi.Q:\n",
        "                ax.text( a[1] , a[0] , \"%.3f\" % pi.Q[s][i], fontsize=fontq, horizontalalignment='center', verticalalignment='center', color=\"w\" )\n",
        "    for i in range(env.n_rows):\n",
        "        for j in range(env.n_cols):\n",
        "            if env.board[i, j] == -1:\n",
        "                ax.text(j, i, \"O\", fontsize=fontx, horizontalalignment='center', verticalalignment='center', color=\"w\" )\n",
        "            if env.board[i, j] == 1:\n",
        "                ax.text(j, i, \"X\", fontsize=fontx, horizontalalignment='center', verticalalignment='center', color=\"w\" )\n",
        "    cbar = plt.colorbar(surf, ticks=[0, 1])\n",
        "    ax.grid(False)\n",
        "    plt.show()\n",
        "\n",
        "def get_and_print_move(env, pi, s, actions, random=False, verbose=True, fontq=20, fontx=60):\n",
        "    '''Делаем ход, рисуем доску'''\n",
        "    plot_board(env, pi, fontq=fontq, fontx=fontx)\n",
        "    if verbose and (pi is not None):\n",
        "        if s in pi.Q:\n",
        "            for i,a in enumerate(actions):\n",
        "                print(i, a, pi.Q[s][i])\n",
        "        else:\n",
        "            print(\"Стратегия не знает, что делать...\")\n",
        "    if random:\n",
        "        return np.random.randint(len(actions))\n",
        "    else:\n",
        "        return pi.getActionGreedy(s, len(actions))"
      ],
      "execution_count": 93,
      "outputs": []
    },
    {
      "cell_type": "code",
      "metadata": {
        "id": "0KrefqXbCbDl"
      },
      "source": [
        "def plot_test_game(env, pi1, pi2, random_crosses=False, random_naughts=True, verbose=True, fontq=20, fontx=60):\n",
        "    '''Играем тестовую партию между стратегиями или со случайными ходами, рисуем ход игры'''\n",
        "    done = False\n",
        "    env.reset()\n",
        "    while not done:\n",
        "        s, actions = env.getHash(), env.getEmptySpaces()\n",
        "        if env.curTurn == 1:\n",
        "            a = get_and_print_move(env, pi1, s, actions, random=random_crosses, verbose=verbose, fontq=fontq, fontx=fontx)\n",
        "        else:\n",
        "            a = get_and_print_move(env, pi2, s, actions, random=random_naughts, verbose=verbose, fontq=fontq, fontx=fontx)\n",
        "        observation, reward, done, info = env.step(actions[a])\n",
        "        if reward == 1:\n",
        "            print(\"Крестики выиграли!\")\n",
        "            plot_board(env, None, showtext=False, fontq=fontq, fontx=fontx)\n",
        "        if reward == -1:\n",
        "            print(\"Нолики выиграли!\")\n",
        "            plot_board(env, None, showtext=False, fontq=fontq, fontx=fontx)"
      ],
      "execution_count": 94,
      "outputs": []
    },
    {
      "cell_type": "markdown",
      "metadata": {
        "id": "GFS_bqijA8o9"
      },
      "source": [
        "## Часть первая: крестики-нолики при помощи Q-обучения"
      ]
    },
    {
      "cell_type": "markdown",
      "metadata": {
        "id": "SnijAqZVBFEe"
      },
      "source": [
        "### 1. Реализуйте обычное (табличное) Q-обучение. Обучите стратегии крестиков и ноликов для доски 3х3."
      ]
    },
    {
      "cell_type": "markdown",
      "metadata": {
        "id": "kHa8CfxUr1Kn"
      },
      "source": [
        "Реализуем Q-обучение с двумя политиками: первого и второго игрока."
      ]
    },
    {
      "cell_type": "code",
      "metadata": {
        "id": "1JmEMWlU_Fc7"
      },
      "source": [
        "def get_action(p, board_hash, empty_spaces, epsilon):\n",
        "  empty_len = len(empty_spaces)\n",
        "  if board_hash in p.Q and np.random.random() > epsilon:\n",
        "    idx = np.argmax(p.Q[board_hash])\n",
        "  else:\n",
        "    idx = np.random.randint(empty_len)\n",
        "    if board_hash not in p.Q:\n",
        "      p.Q[board_hash] = np.zeros(empty_len)\n",
        "  a = empty_spaces[idx]\n",
        "  return a, idx"
      ],
      "execution_count": 95,
      "outputs": []
    },
    {
      "cell_type": "code",
      "metadata": {
        "id": "fJkEakb9AWRJ"
      },
      "source": [
        "def QLearning(env, p_1, p_2, alpha=0.009, epsilon=0.3, gamma=1.0):\n",
        "  env.reset()\n",
        "  board_hash, empty_spaces, cur_turn = env.getState()\n",
        "  reward, done = 0, False\n",
        "  p_1_prev_s, p_1_prev_a = None, None\n",
        "  p_2_prev_s, p_2_prev_a = None, None\n",
        "\n",
        "  while not done:\n",
        "      \n",
        "    if cur_turn == 1:\n",
        "      a, idx = get_action(p_1, board_hash, empty_spaces, epsilon)\n",
        "      state, reward, done, _ = env.step(a)\n",
        "      board_hash_main, empty_spaces_main, cur_turn_main = state\n",
        "      \n",
        "      if p_2_prev_s:\n",
        "        gamma_t = gamma * np.max(p_2.Q[board_hash_main]) if board_hash_main in p_2.Q else 0\n",
        "        p_2.Q[p_2_prev_s][p_2_prev_a] = p_2.Q[p_2_prev_s][p_2_prev_a] + alpha * (-reward + gamma_t - p_2.Q[p_2_prev_s][p_2_prev_a])\n",
        "      if reward == 1:\n",
        "        p_1.Q[board_hash][idx] = reward\n",
        "      \n",
        "      p_1_prev_s, p_1_prev_a = board_hash, idx\n",
        "\n",
        "    elif cur_turn == -1:\n",
        "      a, idx = get_action(p_2, board_hash, empty_spaces, epsilon)\n",
        "      state, reward, done, _ = env.step(a)\n",
        "      board_hash_main, empty_spaces_main, cur_turn_main = state\n",
        "      \n",
        "      if p_1_prev_s:\n",
        "        gamma_t = gamma * np.max(p_1.Q[board_hash_main]) if board_hash_main in p_1.Q else 0\n",
        "        p_1.Q[p_1_prev_s][p_1_prev_a] = p_1.Q[p_1_prev_s][p_1_prev_a] + alpha * (reward + gamma_t - p_1.Q[p_1_prev_s][p_1_prev_a])\n",
        "      if reward == -1:\n",
        "        p_2.Q[board_hash][idx] = -reward\n",
        "      \n",
        "      p_2_prev_s, p_2_prev_a = board_hash, idx\n",
        "    \n",
        "    else:\n",
        "      raise Exception('Может быть только 2 игрока')\n",
        "    \n",
        "    board_hash, empty_spaces, cur_turn = board_hash_main, empty_spaces_main, cur_turn_main"
      ],
      "execution_count": 96,
      "outputs": []
    },
    {
      "cell_type": "code",
      "metadata": {
        "id": "7IBtdGiQaMXr"
      },
      "source": [
        "def get_action_g(p, board_hash, empty_spaces):\n",
        "  empty_len = len(empty_spaces)\n",
        "  if p and board_hash in p.Q:\n",
        "    idx = np.argmax(p.Q[board_hash])\n",
        "  else:\n",
        "    idx = np.random.randint(empty_len)\n",
        "  a = empty_spaces[idx]\n",
        "  return a, idx"
      ],
      "execution_count": 97,
      "outputs": []
    },
    {
      "cell_type": "code",
      "metadata": {
        "id": "Bwseqscy5L6_"
      },
      "source": [
        "def play_game(env, p_1=None, p_2=None):\n",
        "  env.reset()\n",
        "  board_hash, empty_spaces, cur_turn = env.getState()\n",
        "  reward, done = 0, False\n",
        "\n",
        "  while not done:\n",
        "    if cur_turn == 1:\n",
        "      a, idx = get_action_g(p_1, board_hash, empty_spaces)\n",
        "      state, reward, done, _ = env.step(a)\n",
        "      board_hash_main, empty_spaces_main, cur_turn_main = state\n",
        "    elif cur_turn == -1:\n",
        "      a, idx = get_action_g(p_2, board_hash, empty_spaces)\n",
        "      state, reward, done, _ = env.step(a)\n",
        "      board_hash_main, empty_spaces_main, cur_turn_main = state\n",
        "    else:\n",
        "      raise Exception('Может быть только 2 игрока')\n",
        "    \n",
        "    board_hash, empty_spaces, cur_turn = board_hash_main, empty_spaces_main, cur_turn_main\n",
        "  \n",
        "  return reward"
      ],
      "execution_count": 98,
      "outputs": []
    },
    {
      "cell_type": "code",
      "metadata": {
        "id": "VYtiSwmjUXa7"
      },
      "source": [
        "def compare_p(env, p_1=None, p_2=None, episodes_num=1000):\n",
        "    total_reward = 0\n",
        "    for _ in range(episodes_num):\n",
        "        total_reward += play_game(env, p_1=p_1, p_2=p_2)\n",
        "    return total_reward / episodes_num"
      ],
      "execution_count": 99,
      "outputs": []
    },
    {
      "cell_type": "code",
      "metadata": {
        "id": "eV8Ktabt5N3-"
      },
      "source": [
        "class Policy:\n",
        "    def __init__(self):\n",
        "        self.Q = {}\n",
        "    \n",
        "    def get_action(self, s, n):\n",
        "        if s in self.Q:\n",
        "            return np.argmax(self.Q[s])\n",
        "        else:\n",
        "            return np.random.randint(n)"
      ],
      "execution_count": 100,
      "outputs": []
    },
    {
      "cell_type": "code",
      "metadata": {
        "id": "FeiRqYyBmAZh"
      },
      "source": [
        "def run_experiment(env, p_1, p_2, episodes, test_each, print_each):\n",
        "  indexes, crosses, noughts = [], [], []\n",
        "\n",
        "  for i in tqdm.tqdm(range(1, episodes + 1)):\n",
        "    QLearning(env, p_1, p_2)\n",
        "    if i % test_each == 0:\n",
        "      cross = compare_p(env, p_1=p_1, p_2=None, episodes_num=500)\n",
        "      nought = -compare_p(env, p_1=None, p_2=p_2, episodes_num=500)\n",
        "      indexes.append(i)\n",
        "      crosses.append(cross)\n",
        "      noughts.append(nought)\n",
        "    if i % print_each == 0:\n",
        "      print(f'Episode {i}, cross reward: {cross}, nought reward: {nought}')\n",
        "\n",
        "  indexes, crosses, noughts = np.array(indexes), np.array(crosses), np.array(noughts)\n",
        "  results = np.vstack((indexes, crosses, noughts))\n",
        "\n",
        "  return results"
      ],
      "execution_count": 101,
      "outputs": []
    },
    {
      "cell_type": "code",
      "metadata": {
        "colab": {
          "base_uri": "https://localhost:8080/"
        },
        "id": "xevgIwj15PmY",
        "outputId": "be363d42-24c3-44f6-8feb-eb0f3d48607d"
      },
      "source": [
        "p_1 = Policy()\n",
        "p_2 = Policy()\n",
        "env = TicTacToe(3, 3, 3)\n",
        "\n",
        "episodes = 200000\n",
        "test_each = 1000\n",
        "print_each = 20000\n",
        "\n",
        "results_1 = run_experiment(env, p_1, p_2, episodes, test_each, print_each)"
      ],
      "execution_count": 102,
      "outputs": [
        {
          "output_type": "stream",
          "name": "stderr",
          "text": [
            " 10%|█         | 20224/200000 [00:27<04:55, 608.95it/s]"
          ]
        },
        {
          "output_type": "stream",
          "name": "stdout",
          "text": [
            "Episode 20000, cross reward: 0.988, nought reward: 0.64\n"
          ]
        },
        {
          "output_type": "stream",
          "name": "stderr",
          "text": [
            " 20%|██        | 40171/200000 [00:53<05:09, 516.52it/s]"
          ]
        },
        {
          "output_type": "stream",
          "name": "stdout",
          "text": [
            "Episode 40000, cross reward: 0.99, nought reward: 0.74\n"
          ]
        },
        {
          "output_type": "stream",
          "name": "stderr",
          "text": [
            " 30%|███       | 60245/200000 [01:18<04:05, 570.26it/s]"
          ]
        },
        {
          "output_type": "stream",
          "name": "stdout",
          "text": [
            "Episode 60000, cross reward: 0.998, nought reward: 0.794\n"
          ]
        },
        {
          "output_type": "stream",
          "name": "stderr",
          "text": [
            " 40%|████      | 80225/200000 [01:44<02:57, 674.95it/s]"
          ]
        },
        {
          "output_type": "stream",
          "name": "stdout",
          "text": [
            "Episode 80000, cross reward: 0.994, nought reward: 0.82\n"
          ]
        },
        {
          "output_type": "stream",
          "name": "stderr",
          "text": [
            " 50%|█████     | 100272/200000 [02:10<02:25, 684.15it/s]"
          ]
        },
        {
          "output_type": "stream",
          "name": "stdout",
          "text": [
            "Episode 100000, cross reward: 0.994, nought reward: 0.796\n"
          ]
        },
        {
          "output_type": "stream",
          "name": "stderr",
          "text": [
            " 60%|██████    | 120180/200000 [02:35<02:06, 631.46it/s]"
          ]
        },
        {
          "output_type": "stream",
          "name": "stdout",
          "text": [
            "Episode 120000, cross reward: 0.994, nought reward: 0.87\n"
          ]
        },
        {
          "output_type": "stream",
          "name": "stderr",
          "text": [
            " 70%|███████   | 140294/200000 [03:01<01:35, 622.26it/s]"
          ]
        },
        {
          "output_type": "stream",
          "name": "stdout",
          "text": [
            "Episode 140000, cross reward: 0.998, nought reward: 0.848\n"
          ]
        },
        {
          "output_type": "stream",
          "name": "stderr",
          "text": [
            " 80%|████████  | 160153/200000 [03:27<01:01, 652.70it/s]"
          ]
        },
        {
          "output_type": "stream",
          "name": "stdout",
          "text": [
            "Episode 160000, cross reward: 0.99, nought reward: 0.87\n"
          ]
        },
        {
          "output_type": "stream",
          "name": "stderr",
          "text": [
            " 90%|█████████ | 180223/200000 [03:52<00:30, 638.44it/s]"
          ]
        },
        {
          "output_type": "stream",
          "name": "stdout",
          "text": [
            "Episode 180000, cross reward: 0.998, nought reward: 0.848\n"
          ]
        },
        {
          "output_type": "stream",
          "name": "stderr",
          "text": [
            "100%|██████████| 200000/200000 [04:18<00:00, 773.35it/s] "
          ]
        },
        {
          "output_type": "stream",
          "name": "stdout",
          "text": [
            "Episode 200000, cross reward: 0.99, nought reward: 0.856\n"
          ]
        },
        {
          "output_type": "stream",
          "name": "stderr",
          "text": [
            "\n"
          ]
        }
      ]
    },
    {
      "cell_type": "code",
      "metadata": {
        "id": "C8l-U_OAUO8m"
      },
      "source": [
        "def plot_results(results):\n",
        "    plt.xlabel('Эпизодов')\n",
        "    plt.ylabel('Средний выигрыш')\n",
        "    plt.plot(results[0], results[1], label='Крестики')\n",
        "    plt.plot(results[0], results[2], label='Нолики')\n",
        "    plt.legend()"
      ],
      "execution_count": 103,
      "outputs": []
    },
    {
      "cell_type": "code",
      "metadata": {
        "colab": {
          "base_uri": "https://localhost:8080/",
          "height": 314
        },
        "id": "WwmfHAgF5RPh",
        "outputId": "4436204d-5286-4fb9-fbe4-61ebb8ee329d"
      },
      "source": [
        "plot_results(results_1)\n",
        "print(f'Средний выигрышь крестиков против случайной политики: {np.round(np.mean(results_1[1][-100:-1]), 3)}')\n",
        "print(f'Средний выигрышь ноликов против случайной политики: {np.round(np.mean(results_1[2][-100:-1]), 3)}')"
      ],
      "execution_count": 104,
      "outputs": [
        {
          "output_type": "stream",
          "name": "stdout",
          "text": [
            "Средний выигрышь крестиков против случайной политики: 0.994\n",
            "Средний выигрышь ноликов против случайной политики: 0.86\n"
          ]
        },
        {
          "output_type": "display_data",
          "data": {
            "image/png": "[encoded data removed]",
            "text/plain": [
              "<Figure size 432x288 with 1 Axes>"
            ]
          },
          "metadata": {
            "needs_background": "light"
          }
        }
      ]
    },
    {
      "cell_type": "markdown",
      "metadata": {
        "id": "558BxygGBH95"
      },
      "source": [
        "### 2. Попробуйте обучить стратегии крестиков и ноликов для доски 4х4 и/или 5х5."
      ]
    },
    {
      "cell_type": "code",
      "metadata": {
        "id": "7KyNAlK4BOn2",
        "colab": {
          "base_uri": "https://localhost:8080/"
        },
        "outputId": "6bf44cb8-fbee-4514-a8a6-67c398893bbb"
      },
      "source": [
        "p_1 = Policy()\n",
        "p_2 = Policy()\n",
        "env = TicTacToe(4, 4, 4)\n",
        "\n",
        "episodes = 1000000\n",
        "test_each = 1000\n",
        "print_each = 100000\n",
        "\n",
        "results_2 = run_experiment(env, p_1, p_2, episodes, test_each, print_each)"
      ],
      "execution_count": 106,
      "outputs": [
        {
          "metadata": {
            "tags": null
          },
          "name": "stderr",
          "output_type": "stream",
          "text": [
            " 10%|█         | 100091/1000000 [05:22<1:42:10, 146.79it/s]"
          ]
        },
        {
          "metadata": {
            "tags": null
          },
          "name": "stdout",
          "output_type": "stream",
          "text": [
            "Episode 100000, cross reward: 0.372, nought reward: 0.018\n"
          ]
        },
        {
          "metadata": {
            "tags": null
          },
          "name": "stderr",
          "output_type": "stream",
          "text": [
            " 20%|██        | 200078/1000000 [10:35<1:32:30, 144.11it/s]"
          ]
        },
        {
          "metadata": {
            "tags": null
          },
          "name": "stdout",
          "output_type": "stream",
          "text": [
            "Episode 200000, cross reward: 0.498, nought reward: 0.018\n"
          ]
        },
        {
          "output_type": "stream",
          "name": "stderr",
          "text": [
            " 30%|███       | 300076/1000000 [15:46<1:12:42, 160.43it/s]"
          ]
        },
        {
          "output_type": "stream",
          "name": "stdout",
          "text": [
            "Episode 300000, cross reward: 0.59, nought reward: 0.074\n"
          ]
        },
        {
          "output_type": "stream",
          "name": "stderr",
          "text": [
            " 40%|████      | 400089/1000000 [20:54<1:06:27, 150.43it/s]"
          ]
        },
        {
          "output_type": "stream",
          "name": "stdout",
          "text": [
            "Episode 400000, cross reward: 0.29, nought reward: 0.052\n"
          ]
        },
        {
          "output_type": "stream",
          "name": "stderr",
          "text": [
            " 50%|█████     | 500103/1000000 [25:55<52:36, 158.35it/s]  "
          ]
        },
        {
          "output_type": "stream",
          "name": "stdout",
          "text": [
            "Episode 500000, cross reward: 0.682, nought reward: 0.15\n"
          ]
        },
        {
          "output_type": "stream",
          "name": "stderr",
          "text": [
            " 60%|██████    | 600122/1000000 [30:51<36:28, 182.70it/s]"
          ]
        },
        {
          "output_type": "stream",
          "name": "stdout",
          "text": [
            "Episode 600000, cross reward: 0.628, nought reward: 0.16\n"
          ]
        },
        {
          "output_type": "stream",
          "name": "stderr",
          "text": [
            " 70%|███████   | 700112/1000000 [35:47<29:32, 169.24it/s]"
          ]
        },
        {
          "output_type": "stream",
          "name": "stdout",
          "text": [
            "Episode 700000, cross reward: 0.742, nought reward: 0.118\n"
          ]
        },
        {
          "output_type": "stream",
          "name": "stderr",
          "text": [
            " 80%|████████  | 800099/1000000 [40:43<19:07, 174.16it/s]"
          ]
        },
        {
          "output_type": "stream",
          "name": "stdout",
          "text": [
            "Episode 800000, cross reward: 0.772, nought reward: 0.124\n"
          ]
        },
        {
          "output_type": "stream",
          "name": "stderr",
          "text": [
            " 90%|█████████ | 900081/1000000 [45:39<10:07, 164.42it/s]"
          ]
        },
        {
          "output_type": "stream",
          "name": "stdout",
          "text": [
            "Episode 900000, cross reward: 0.804, nought reward: 0.19\n"
          ]
        },
        {
          "output_type": "stream",
          "name": "stderr",
          "text": [
            "100%|██████████| 1000000/1000000 [50:35<00:00, 329.43it/s]"
          ]
        },
        {
          "output_type": "stream",
          "name": "stdout",
          "text": [
            "Episode 1000000, cross reward: 0.806, nought reward: 0.204\n"
          ]
        },
        {
          "output_type": "stream",
          "name": "stderr",
          "text": [
            "\n"
          ]
        }
      ]
    },
    {
      "cell_type": "code",
      "metadata": {
        "colab": {
          "base_uri": "https://localhost:8080/",
          "height": 314
        },
        "id": "a-gjUpRTnfqs",
        "outputId": "4f5e6da4-65e3-4f67-e303-c661ca685a15"
      },
      "source": [
        "plot_results(results_2)\n",
        "print(f'Средний выигрышь крестиков против случайной политики: {np.round(np.mean(results_2[1][-100:-1]), 3)}')\n",
        "print(f'Средний выигрышь ноликов против случайной политики: {np.round(np.mean(results_2[2][-100:-1]), 3)}')"
      ],
      "execution_count": 107,
      "outputs": [
        {
          "output_type": "stream",
          "name": "stdout",
          "text": [
            "Средний выигрышь крестиков против случайной политики: 0.769\n",
            "Средний выигрышь ноликов против случайной политики: 0.192\n"
          ]
        },
        {
          "output_type": "display_data",
          "data": {
            "image/png": "[encoded data removed]",
            "text/plain": [
              "<Figure size 432x288 with 1 Axes>"
            ]
          },
          "metadata": {
            "needs_background": "light"
          }
        }
      ]
    },
    {
      "cell_type": "markdown",
      "metadata": {
        "id": "xVtojDTCIO4k"
      },
      "source": [
        "Как видим, при увелечении размерности доски всего на 1, Q-обучение требует гораздо большее количество эпизодов - увеличение в 5 раз не дало возможности обучиться модели с таким же результатам как на доске 3х3."
      ]
    },
    {
      "cell_type": "code",
      "metadata": {
        "colab": {
          "base_uri": "https://localhost:8080/"
        },
        "id": "To1uALwYnqGC",
        "outputId": "9ab63dcf-ed69-4eaa-9662-3b491d7256ff"
      },
      "source": [
        "p_1 = Policy()\n",
        "p_2 = Policy()\n",
        "env = TicTacToe(5, 5, 5)\n",
        "\n",
        "episodes = 2000000\n",
        "test_each = 1000\n",
        "print_each = 200000\n",
        "\n",
        "results_3 = run_experiment(env, p_1, p_2, episodes, test_each, print_each)"
      ],
      "execution_count": 108,
      "outputs": [
        {
          "output_type": "stream",
          "name": "stderr",
          "text": [
            " 10%|█         | 200043/2000000 [21:53<11:40:31, 42.82it/s]"
          ]
        },
        {
          "output_type": "stream",
          "name": "stdout",
          "text": [
            "Episode 200000, cross reward: 0.204, nought reward: -0.072\n"
          ]
        },
        {
          "output_type": "stream",
          "name": "stderr",
          "text": [
            " 20%|██        | 400037/2000000 [43:21<10:28:37, 42.42it/s]"
          ]
        },
        {
          "output_type": "stream",
          "name": "stdout",
          "text": [
            "Episode 400000, cross reward: 0.308, nought reward: -0.15\n"
          ]
        },
        {
          "output_type": "stream",
          "name": "stderr",
          "text": [
            " 30%|███       | 600031/2000000 [1:04:42<8:43:59, 44.53it/s] "
          ]
        },
        {
          "output_type": "stream",
          "name": "stdout",
          "text": [
            "Episode 600000, cross reward: 0.294, nought reward: -0.152\n"
          ]
        },
        {
          "output_type": "stream",
          "name": "stderr",
          "text": [
            " 40%|████      | 800043/2000000 [1:25:48<7:44:57, 43.01it/s] "
          ]
        },
        {
          "output_type": "stream",
          "name": "stdout",
          "text": [
            "Episode 800000, cross reward: 0.338, nought reward: -0.128\n"
          ]
        },
        {
          "output_type": "stream",
          "name": "stderr",
          "text": [
            " 50%|█████     | 1000030/2000000 [1:46:55<6:34:31, 42.24it/s]"
          ]
        },
        {
          "output_type": "stream",
          "name": "stdout",
          "text": [
            "Episode 1000000, cross reward: 0.276, nought reward: -0.068\n"
          ]
        },
        {
          "output_type": "stream",
          "name": "stderr",
          "text": [
            " 60%|██████    | 1200043/2000000 [2:07:58<5:19:58, 41.67it/s]"
          ]
        },
        {
          "output_type": "stream",
          "name": "stdout",
          "text": [
            "Episode 1200000, cross reward: 0.306, nought reward: -0.108\n"
          ]
        },
        {
          "output_type": "stream",
          "name": "stderr",
          "text": [
            " 70%|███████   | 1400058/2000000 [2:29:04<3:46:02, 44.24it/s]"
          ]
        },
        {
          "output_type": "stream",
          "name": "stdout",
          "text": [
            "Episode 1400000, cross reward: 0.294, nought reward: -0.132\n"
          ]
        },
        {
          "output_type": "stream",
          "name": "stderr",
          "text": [
            " 80%|████████  | 1600027/2000000 [2:50:11<2:37:30, 42.32it/s]"
          ]
        },
        {
          "output_type": "stream",
          "name": "stdout",
          "text": [
            "Episode 1600000, cross reward: 0.334, nought reward: -0.094\n"
          ]
        },
        {
          "output_type": "stream",
          "name": "stderr",
          "text": [
            " 90%|█████████ | 1800027/2000000 [3:11:27<1:21:52, 40.71it/s]"
          ]
        },
        {
          "output_type": "stream",
          "name": "stdout",
          "text": [
            "Episode 1800000, cross reward: 0.31, nought reward: -0.124\n"
          ]
        },
        {
          "output_type": "stream",
          "name": "stderr",
          "text": [
            "100%|██████████| 2000000/2000000 [3:32:49<00:00, 156.62it/s]"
          ]
        },
        {
          "output_type": "stream",
          "name": "stdout",
          "text": [
            "Episode 2000000, cross reward: 0.33, nought reward: -0.082\n"
          ]
        },
        {
          "output_type": "stream",
          "name": "stderr",
          "text": [
            "\n"
          ]
        }
      ]
    },
    {
      "cell_type": "code",
      "metadata": {
        "colab": {
          "base_uri": "https://localhost:8080/",
          "height": 314
        },
        "id": "YiCHmmxLnppD",
        "outputId": "364952e0-c91a-4869-a87d-4402441d8b01"
      },
      "source": [
        "plot_results(results_3)\n",
        "print(f'Средний выигрышь крестиков против случайной политики: {np.round(np.mean(results_3[1][-100:-1]), 3)}')\n",
        "print(f'Средний выигрышь ноликов против случайной политики: {np.round(np.mean(results_3[2][-100:-1]), 3)}')"
      ],
      "execution_count": 109,
      "outputs": [
        {
          "output_type": "stream",
          "name": "stdout",
          "text": [
            "Средний выигрышь крестиков против случайной политики: 0.306\n",
            "Средний выигрышь ноликов против случайной политики: -0.097\n"
          ]
        },
        {
          "output_type": "display_data",
          "data": {
            "image/png": "[encoded data removed]",
            "text/plain": [
              "<Figure size 432x288 with 1 Axes>"
            ]
          },
          "metadata": {
            "needs_background": "light"
          }
        }
      ]
    },
    {
      "cell_type": "markdown",
      "metadata": {
        "id": "MbDaf1ZnIMcs"
      },
      "source": [
        "При заданных параметрах - не получилось эффективно обучить Q-стратегию для доски размера 5х5, при этом количество эпизодов и времени потребовалось значительно больше (2 млн эпизодов и ~3 часа времени)."
      ]
    }
  ]
}